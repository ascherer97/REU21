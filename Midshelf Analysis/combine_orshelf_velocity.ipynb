{
 "cells": [
  {
   "cell_type": "code",
   "execution_count": 1,
   "metadata": {},
   "outputs": [],
   "source": [
    "%matplotlib widget\n",
    "import xarray as xr\n",
    "from glob import glob\n",
    "import matplotlib.pyplot as plt\n",
    "import numpy as np\n",
    "from physoce.tseries import rot"
   ]
  },
  {
   "cell_type": "markdown",
   "metadata": {},
   "source": [
    "## Load datasets\n",
    "\n",
    "### Surface buoy/frame - ADV and ADCP"
   ]
  },
  {
   "cell_type": "code",
   "execution_count": 2,
   "metadata": {},
   "outputs": [],
   "source": [
    "nc_adcp_surf = 'nc_files/adcp_surface_orshelf.nc'\n",
    "ds_adcp_surf = xr.open_dataset(nc_adcp_surf)"
   ]
  },
  {
   "cell_type": "code",
   "execution_count": 3,
   "metadata": {},
   "outputs": [],
   "source": [
    "nc_adv_surf = 'nc_files/deployment0009_CE02SHSM-SBD11-04-VELPTA000-recovered_inst-velpt_ab_instrument_recovered_20190420T000000-20191022T153000.nc'\n",
    "ds_adv_surf = xr.open_dataset(nc_adv_surf)\n",
    "ds_adv_surf = ds_adv_surf.swap_dims({'obs':'time'})"
   ]
  },
  {
   "cell_type": "markdown",
   "metadata": {},
   "source": [
    "### Benthic experiment package - ADV and ADCP"
   ]
  },
  {
   "cell_type": "code",
   "execution_count": 4,
   "metadata": {},
   "outputs": [],
   "source": [
    "nc_adcp_benthic_list = sorted(glob('nc_files/benthic_adcp_orshelf/*avg.nc'))"
   ]
  },
  {
   "cell_type": "code",
   "execution_count": 5,
   "metadata": {},
   "outputs": [],
   "source": [
    "nc_adv_benthic_list = sorted(glob('nc_files/benthic_adv_orshelf/*avg.nc'))"
   ]
  },
  {
   "cell_type": "code",
   "execution_count": 6,
   "metadata": {},
   "outputs": [],
   "source": [
    "ds_adcp_benthic = xr.open_mfdataset(nc_adcp_benthic_list)\n",
    "ds_adv_benthic = xr.open_mfdataset(nc_adv_benthic_list)"
   ]
  },
  {
   "cell_type": "code",
   "execution_count": 7,
   "metadata": {},
   "outputs": [],
   "source": [
    "ds_adcp_benthic_deployment1 = xr.open_dataset(nc_adcp_benthic_list[0])"
   ]
  },
  {
   "cell_type": "markdown",
   "metadata": {},
   "source": [
    "### Vertical coordinates"
   ]
  },
  {
   "cell_type": "code",
   "execution_count": 8,
   "metadata": {},
   "outputs": [],
   "source": [
    "def add_adcp_vertical_coordinates(ds,inst_location):\n",
    "    '''\n",
    "    This function creates additional variables for keeping track of depths in the ADCP data:\n",
    "    \n",
    "    ** Bottom mounted **\n",
    "    The dataset provided by OOI includes the following variables:\n",
    "\n",
    "    'depth_from_pressure' is the total water column depth, calculated from the pressure sensor. Dimensions: (obs)\n",
    "    'bin_depths' is the depth of each ADCP bin below the sea surface, which moves up and down. The bin depths constantly change in time. Dimensions: (obs, bin)\n",
    "\n",
    "    'bin_height' is the height of each ADCP bin above the bottom. These heights are fixed, since the ADCP is mounted at the bottom. Dimensions: (bin)\n",
    "    'bin_depths_avg' is the average depth below the surface for each ADCP bin. These depths are fixed in time since they are defined in relation to a time average. Dimensions: (bin)\n",
    "    'sea_surface' is the height of the sea surface, relative to the time average. Dimensions: (obs)\n",
    "    'bottom_depth_avg' is the average bottom depth, calculated from the pressure sensor. This is a single value with no dimensions. Dimensions: ()    \n",
    "    '''\n",
    "    \n",
    "    if inst_location == 'bottom':\n",
    "        ds['bin_height'] =  ds['depth_from_pressure'][0] - ds['bin_depths'][0,:]\n",
    "        ds['bin_height'].attrs['units'] = 'm'\n",
    "\n",
    "        ds['bin_depths_avg'] = np.mean(ds['depth_from_pressure'])-ds['bin_height']\n",
    "        ds['bin_depths_avg'].attrs['units'] = 'm'\n",
    "\n",
    "        ds['sea_surface'] = ds['depth_from_pressure']-np.mean(ds['depth_from_pressure'])\n",
    "        ds['sea_surface'].attrs['units'] = 'm'\n",
    "\n",
    "        ds['bottom_depth_avg'] = np.mean(ds['depth_from_pressure'])\n",
    "        ds['bottom_depth_avg'].attrs['units'] = 'm'\n",
    "        \n",
    "    return ds"
   ]
  },
  {
   "cell_type": "code",
   "execution_count": 9,
   "metadata": {},
   "outputs": [],
   "source": [
    "ds_adcp_benthic = add_adcp_vertical_coordinates(ds_adcp_benthic,inst_location='bottom')"
   ]
  },
  {
   "cell_type": "markdown",
   "metadata": {},
   "source": [
    "#### Surface point measurement\n",
    "\n",
    "Create depth variable for surface ADV\n",
    "* Attributes for `pressure_mbar` variable state that surface pressure has been removed and that the units are 0.001 dbar (although this is not actually millibars)\n",
    "* No info on blanking distance but 0.2 m is the minimum for a Nortek Aquadopp\n",
    "\n",
    "Add `bin` dimension to allow combination with other datasets (even though there is only one bin)\n",
    "\n",
    "Also create variable names for velocity that are consistent with other data sets"
   ]
  },
  {
   "cell_type": "code",
   "execution_count": 10,
   "metadata": {},
   "outputs": [],
   "source": [
    "ds_adv_surf['bin_depths'] = ds_adv_surf['pressure_mbar']/1000 + 0.2 \n",
    "ds_adv_surf['eastward_seawater_velocity'] = ds_adv_surf['eastward_velocity']\n",
    "ds_adv_surf['northward_seawater_velocity'] = ds_adv_surf['northward_velocity']"
   ]
  },
  {
   "cell_type": "code",
   "execution_count": 11,
   "metadata": {},
   "outputs": [],
   "source": [
    "ds_adv_surf = ds_adv_surf.expand_dims(bin=[0],axis=1)"
   ]
  },
  {
   "cell_type": "code",
   "execution_count": 12,
   "metadata": {},
   "outputs": [],
   "source": [
    "ds_adv_surf['bin_depths_avg'] = ds_adv_surf['bin_depths'].mean(dim='time')\n",
    "ds_adv_surf['bin_depths_avg'].attrs['units'] = 'm'"
   ]
  },
  {
   "cell_type": "markdown",
   "metadata": {},
   "source": [
    "#### Surface ADCP\n",
    "\n",
    "Create `bin_depths_avg` variable"
   ]
  },
  {
   "cell_type": "code",
   "execution_count": 13,
   "metadata": {},
   "outputs": [],
   "source": [
    "ds_adcp_surf['bin_depths_avg'] = ds_adcp_surf['bin_depths'].mean(dim='time')\n",
    "ds_adcp_surf['bin_depths_avg'].attrs['units'] = 'm'"
   ]
  },
  {
   "cell_type": "markdown",
   "metadata": {},
   "source": [
    "#### Benthic ADV\n",
    "* Note shift in pressure between deployments - not close to the depth of the ADCP in either deployment\n",
    "* Also more limited in time availability\n",
    "* Not including in combined dataset for now"
   ]
  },
  {
   "cell_type": "code",
   "execution_count": 14,
   "metadata": {},
   "outputs": [],
   "source": [
    "ds_adv_benthic['eastward_seawater_velocity'] = ds_adv_benthic['vel3d_c_eastward_turbulent_velocity']/10\n",
    "ds_adv_benthic['northward_seawater_velocity'] = ds_adv_benthic['vel3d_c_northward_turbulent_velocity']/10"
   ]
  },
  {
   "cell_type": "code",
   "execution_count": 15,
   "metadata": {},
   "outputs": [
    {
     "data": {
      "application/vnd.jupyter.widget-view+json": {
       "model_id": "3d0a45da41444517a732fd410c143ee2",
       "version_major": 2,
       "version_minor": 0
      },
      "text/plain": [
       "Canvas(toolbar=Toolbar(toolitems=[('Home', 'Reset original view', 'home', 'home'), ('Back', 'Back to previous …"
      ]
     },
     "metadata": {},
     "output_type": "display_data"
    },
    {
     "data": {
      "text/plain": [
       "Text(0, 0.5, 'pressure/depth')"
      ]
     },
     "execution_count": 15,
     "metadata": {},
     "output_type": "execute_result"
    }
   ],
   "source": [
    "plt.figure()\n",
    "plt.plot(ds_adv_benthic['time'],ds_adv_benthic['seawater_pressure_mbar']/1000)\n",
    "plt.plot(ds_adcp_benthic['time'],ds_adcp_benthic['depth_from_pressure'])\n",
    "plt.legend(['ADV','ADCP'])\n",
    "plt.ylabel('pressure/depth')"
   ]
  },
  {
   "cell_type": "markdown",
   "metadata": {},
   "source": [
    "### Data availability"
   ]
  },
  {
   "cell_type": "code",
   "execution_count": 16,
   "metadata": {},
   "outputs": [
    {
     "data": {
      "application/vnd.jupyter.widget-view+json": {
       "model_id": "5dc6caf5dc9a482783d3175208970c38",
       "version_major": 2,
       "version_minor": 0
      },
      "text/plain": [
       "Canvas(toolbar=Toolbar(toolitems=[('Home', 'Reset original view', 'home', 'home'), ('Back', 'Back to previous …"
      ]
     },
     "metadata": {},
     "output_type": "display_data"
    },
    {
     "data": {
      "text/plain": [
       "<matplotlib.legend.Legend at 0x15e9bfe20>"
      ]
     },
     "execution_count": 16,
     "metadata": {},
     "output_type": "execute_result"
    }
   ],
   "source": [
    "plt.figure(figsize=(8,5))\n",
    "plt.plot(ds_adv_surf['time'],ds_adv_surf['northward_velocity'].squeeze())\n",
    "plt.plot(ds_adcp_surf['time'],ds_adcp_surf['northward_seawater_velocity'][:,0])\n",
    "plt.plot(ds_adcp_benthic['time'],ds_adcp_benthic['northward_seawater_velocity'][:,0])\n",
    "plt.plot(ds_adv_benthic['time'],ds_adv_benthic['vel3d_c_northward_turbulent_velocity']/10)\n",
    "plt.legend(['surface point','surface ADCP','benthic ADCP','benthic point'])"
   ]
  },
  {
   "cell_type": "markdown",
   "metadata": {},
   "source": [
    "### Align data in time"
   ]
  },
  {
   "cell_type": "code",
   "execution_count": 17,
   "metadata": {},
   "outputs": [],
   "source": [
    "(ds_adv_surf_aligned,\n",
    " ds_adcp_surf_aligned,\n",
    " ds_adcp_benthic_aligned) = xr.align(ds_adv_surf,\n",
    "                                    ds_adcp_surf,\n",
    "                                    ds_adcp_benthic,\n",
    "                                   join='inner',\n",
    "                                   exclude='bin')"
   ]
  },
  {
   "cell_type": "code",
   "execution_count": 18,
   "metadata": {},
   "outputs": [
    {
     "data": {
      "application/vnd.jupyter.widget-view+json": {
       "model_id": "486d882794b14f11a5ebedf80bb869d3",
       "version_major": 2,
       "version_minor": 0
      },
      "text/plain": [
       "Canvas(toolbar=Toolbar(toolitems=[('Home', 'Reset original view', 'home', 'home'), ('Back', 'Back to previous …"
      ]
     },
     "metadata": {},
     "output_type": "display_data"
    },
    {
     "data": {
      "text/plain": [
       "<matplotlib.legend.Legend at 0x1604fba90>"
      ]
     },
     "execution_count": 18,
     "metadata": {},
     "output_type": "execute_result"
    }
   ],
   "source": [
    "plt.figure(figsize=(8,5))\n",
    "plt.plot(ds_adv_surf_aligned['time'],ds_adv_surf_aligned['northward_velocity'])\n",
    "plt.plot(ds_adcp_surf_aligned['time'],ds_adcp_surf_aligned['northward_seawater_velocity'][:,0])\n",
    "plt.plot(ds_adcp_benthic_aligned['time'],ds_adcp_benthic_aligned['northward_seawater_velocity'][:,0])\n",
    "plt.legend(['surface point','surface ACP','benthic ADCP'])"
   ]
  },
  {
   "cell_type": "code",
   "execution_count": 19,
   "metadata": {},
   "outputs": [
    {
     "data": {
      "application/vnd.jupyter.widget-view+json": {
       "model_id": "6fc479ff98db4225a5902f68d1d029ab",
       "version_major": 2,
       "version_minor": 0
      },
      "text/plain": [
       "Canvas(toolbar=Toolbar(toolitems=[('Home', 'Reset original view', 'home', 'home'), ('Back', 'Back to previous …"
      ]
     },
     "metadata": {},
     "output_type": "display_data"
    },
    {
     "data": {
      "text/plain": [
       "Text(0.5, 0.98, 'northward velocity')"
      ]
     },
     "execution_count": 19,
     "metadata": {},
     "output_type": "execute_result"
    }
   ],
   "source": [
    "plt.figure(figsize=(8,4))\n",
    "plt.subplot(1,2,1)\n",
    "plt.plot(ds_adcp_benthic_aligned['northward_seawater_velocity'].mean(dim='time'),\n",
    "         ds_adcp_benthic_aligned['bin_depths'].mean(dim='time'),'^')\n",
    "plt.plot(ds_adcp_surf_aligned['northward_seawater_velocity'].mean(dim='time'),\n",
    "         ds_adcp_surf_aligned['bin_depths'].mean(dim='time'),'.')\n",
    "plt.plot(ds_adv_surf_aligned['northward_velocity'].mean(dim='time'),2,'o')\n",
    "plt.gca().invert_yaxis()\n",
    "plt.ylabel('depth [m]')\n",
    "plt.xlabel('mean v [m/s]')\n",
    "plt.legend(['bethic ADCP','surface ADCP','surface point'])\n",
    "plt.subplot(1,2,2)\n",
    "plt.plot(ds_adcp_benthic_aligned['northward_seawater_velocity'].std(dim='time'),\n",
    "         ds_adcp_benthic_aligned['bin_depths'].mean(dim='time'),'^')\n",
    "plt.plot(ds_adcp_surf_aligned['northward_seawater_velocity'].std(dim='time'),\n",
    "         ds_adcp_surf_aligned['bin_depths'].mean(dim='time'),'.')\n",
    "plt.plot(ds_adv_surf_aligned['northward_velocity'].std(dim='time'),\n",
    "         2,'o')\n",
    "plt.gca().invert_yaxis()\n",
    "plt.xlabel('std v [m/s]')\n",
    "plt.suptitle('northward velocity')"
   ]
  },
  {
   "cell_type": "code",
   "execution_count": 20,
   "metadata": {},
   "outputs": [
    {
     "data": {
      "application/vnd.jupyter.widget-view+json": {
       "model_id": "53c3980e776b4b88b426d124b705e700",
       "version_major": 2,
       "version_minor": 0
      },
      "text/plain": [
       "Canvas(toolbar=Toolbar(toolitems=[('Home', 'Reset original view', 'home', 'home'), ('Back', 'Back to previous …"
      ]
     },
     "metadata": {},
     "output_type": "display_data"
    },
    {
     "data": {
      "text/plain": [
       "Text(0.5, 0.98, 'eastward velocity')"
      ]
     },
     "execution_count": 20,
     "metadata": {},
     "output_type": "execute_result"
    }
   ],
   "source": [
    "plt.figure(figsize=(8,4))\n",
    "plt.subplot(1,2,1)\n",
    "plt.plot(ds_adcp_benthic_aligned['eastward_seawater_velocity'].mean(dim='time'),\n",
    "         ds_adcp_benthic_aligned['bin_depths'].mean(dim='time'),'^')\n",
    "plt.plot(ds_adcp_surf_aligned['eastward_seawater_velocity'].mean(dim='time'),\n",
    "         ds_adcp_surf_aligned['bin_depths'].mean(dim='time'),'.')\n",
    "plt.plot(ds_adv_surf_aligned['eastward_velocity'].mean(dim='time'),2,'o')\n",
    "#plt.plot(ds_adv_benthic_aligned['vel3d_c_northward_turbulent_velocity'].mean(dim='time')/10,80,'s')\n",
    "plt.gca().invert_yaxis()\n",
    "plt.xlim([-0.25,0.25])\n",
    "plt.ylabel('depth [m]')\n",
    "plt.xlabel('mean u [m/s]')\n",
    "plt.subplot(1,2,2)\n",
    "plt.plot(ds_adcp_benthic_aligned['eastward_seawater_velocity'].std(dim='time'),\n",
    "         ds_adcp_benthic_aligned['bin_depths'].mean(dim='time'),'^')\n",
    "plt.plot(ds_adcp_surf_aligned['eastward_seawater_velocity'].std(dim='time'),\n",
    "         ds_adcp_surf_aligned['bin_depths'].mean(dim='time'),'.')\n",
    "plt.plot(ds_adv_surf_aligned['eastward_velocity'].std(dim='time'),\n",
    "         2,'o')\n",
    "#plt.plot(ds_adv_benthic_aligned['vel3d_c_northward_turbulent_velocity'].std(dim='time')/10,80,'s')\n",
    "plt.gca().invert_yaxis()\n",
    "plt.xlim([0,1])\n",
    "plt.xlabel('std u [m/s]')\n",
    "plt.suptitle('eastward velocity')"
   ]
  },
  {
   "cell_type": "code",
   "execution_count": 21,
   "metadata": {},
   "outputs": [],
   "source": [
    "nbins = np.shape(ds_adcp_surf['bin_depths'])[1]\n",
    "rs = np.nan*np.zeros(nbins)\n",
    "for bis in range(nbins):\n",
    "    bib = np.argmin(np.abs(ds_adcp_benthic['bin_depths'].mean(dim='time').values-\n",
    "                           ds_adcp_surf['bin_depths'].mean(dim='time').values[bis]))\n",
    "    r = xr.corr(ds_adcp_surf_aligned['northward_seawater_velocity'][:,bis],\n",
    "        ds_adcp_benthic_aligned['northward_seawater_velocity'][:,bib],\n",
    "        dim='time')\n",
    "    rs[bis] = r.values"
   ]
  },
  {
   "cell_type": "code",
   "execution_count": 22,
   "metadata": {},
   "outputs": [
    {
     "data": {
      "application/vnd.jupyter.widget-view+json": {
       "model_id": "8c1d6ab3770a49ebbdc7efdb17e65be0",
       "version_major": 2,
       "version_minor": 0
      },
      "text/plain": [
       "Canvas(toolbar=Toolbar(toolitems=[('Home', 'Reset original view', 'home', 'home'), ('Back', 'Back to previous …"
      ]
     },
     "metadata": {},
     "output_type": "display_data"
    },
    {
     "data": {
      "text/plain": [
       "Text(0, 0.5, 'depth [m]')"
      ]
     },
     "execution_count": 22,
     "metadata": {},
     "output_type": "execute_result"
    }
   ],
   "source": [
    "plt.figure()\n",
    "plt.plot(rs,ds_adcp_surf['bin_depths'].mean(dim='time'),'-^')\n",
    "plt.gca().invert_yaxis()\n",
    "plt.title('correlation between surface and bottom ADCPs')\n",
    "plt.xlabel('r')\n",
    "plt.ylabel('depth [m]')"
   ]
  },
  {
   "cell_type": "markdown",
   "metadata": {},
   "source": [
    "Find depth of maximum correlation"
   ]
  },
  {
   "cell_type": "code",
   "execution_count": 23,
   "metadata": {},
   "outputs": [],
   "source": [
    "maxri = np.argmax(rs)\n",
    "depth_maxcorr = ds_adcp_surf['bin_depths'].max(dim='time').values[maxri]"
   ]
  },
  {
   "cell_type": "code",
   "execution_count": 24,
   "metadata": {},
   "outputs": [],
   "source": [
    "zsurfi, = np.where(ds_adcp_surf_aligned['bin_depths'].max(dim='time') <= depth_maxcorr)\n",
    "zboti, = np.where(ds_adcp_benthic_aligned['bin_depths'].min(dim='time') > depth_maxcorr)"
   ]
  },
  {
   "cell_type": "markdown",
   "metadata": {},
   "source": [
    "## Investigate differences between surface and bottom ADCP"
   ]
  },
  {
   "cell_type": "code",
   "execution_count": 25,
   "metadata": {},
   "outputs": [],
   "source": [
    "ds_adcp_surf_aligned['direction'] = np.arctan2(ds_adcp_surf_aligned['northward_seawater_velocity'],\n",
    "                                              ds_adcp_surf_aligned['eastward_seawater_velocity'])\n",
    "ds_adcp_surf_aligned['speed'] = np.sqrt(ds_adcp_surf_aligned['northward_seawater_velocity']**2 + \n",
    "                                              ds_adcp_surf_aligned['eastward_seawater_velocity']**2)"
   ]
  },
  {
   "cell_type": "code",
   "execution_count": 26,
   "metadata": {},
   "outputs": [],
   "source": [
    "ds_adcp_benthic_aligned['direction'] = np.arctan2(ds_adcp_benthic_aligned['northward_seawater_velocity'],\n",
    "                                              ds_adcp_benthic_aligned['eastward_seawater_velocity'])"
   ]
  },
  {
   "cell_type": "markdown",
   "metadata": {},
   "source": [
    "Look only at times where speed is sufficiently large to determine an angle"
   ]
  },
  {
   "cell_type": "code",
   "execution_count": 27,
   "metadata": {},
   "outputs": [
    {
     "data": {
      "application/vnd.jupyter.widget-view+json": {
       "model_id": "e99a9e365db348b4b5e771780ba1d836",
       "version_major": 2,
       "version_minor": 0
      },
      "text/plain": [
       "Canvas(toolbar=Toolbar(toolitems=[('Home', 'Reset original view', 'home', 'home'), ('Back', 'Back to previous …"
      ]
     },
     "metadata": {},
     "output_type": "display_data"
    },
    {
     "data": {
      "text/plain": [
       "Text(0, 0.5, '[deg]')"
      ]
     },
     "execution_count": 27,
     "metadata": {},
     "output_type": "execute_result"
    }
   ],
   "source": [
    "plt.figure()\n",
    "si, = np.where(ds_adcp_surf_aligned['speed'][:,zsurfi[-1]] > 0.1)\n",
    "\n",
    "plt.plot(ds_adcp_surf_aligned['time'][si],(ds_adcp_surf_aligned['direction'][si,zsurfi[-1]]\n",
    "          -ds_adcp_benthic_aligned['direction'][si,zboti[-1]])*180/np.pi,'.')\n",
    "plt.title('angle difference at '+str(depth_maxcorr)[:4]+'m')\n",
    "plt.ylabel('[deg]')"
   ]
  },
  {
   "cell_type": "code",
   "execution_count": 28,
   "metadata": {},
   "outputs": [
    {
     "data": {
      "application/vnd.jupyter.widget-view+json": {
       "model_id": "f8064c892f3542708f67324846da2f14",
       "version_major": 2,
       "version_minor": 0
      },
      "text/plain": [
       "Canvas(toolbar=Toolbar(toolitems=[('Home', 'Reset original view', 'home', 'home'), ('Back', 'Back to previous …"
      ]
     },
     "metadata": {},
     "output_type": "display_data"
    }
   ],
   "source": [
    "tis1, = np.where((ds_adcp_benthic_aligned['time'] <= ds_adcp_benthic_deployment1['time'][-1]) & \n",
    "               (ds_adcp_surf_aligned['speed'][:,zsurfi[-1]] > 0.1)) \n",
    "\n",
    "tis2, = np.where((ds_adcp_benthic_aligned['time'] > ds_adcp_benthic_deployment1['time'][-1]) & \n",
    "               (ds_adcp_surf_aligned['speed'][:,zsurfi[-1]] > 0.1)) \n",
    "\n",
    "plt.figure()\n",
    "plt.hist((ds_adcp_surf_aligned['direction'][tis1,zsurfi[-1]]\n",
    "          -ds_adcp_benthic_aligned['direction'][tis1,zboti[-1]])*180/np.pi,\n",
    "         bins=180,range=[-360,360])\n",
    "\n",
    "plt.hist((ds_adcp_surf_aligned['direction'][tis2,zsurfi[-1]]\n",
    "          -ds_adcp_benthic_aligned['direction'][tis2,zboti[-1]])*180/np.pi,\n",
    "         bins=180,range=[-360,360]);\n",
    "plt.xlim([-360,360]);\n",
    "plt.legend(['deployment 5','deployment 6'])\n",
    "plt.xlabel('angle difference (surface - benthic) [deg]');\n",
    "plt.ylabel('count');"
   ]
  },
  {
   "cell_type": "markdown",
   "metadata": {},
   "source": [
    "Look only at directions between -180 to 180 deg and take average"
   ]
  },
  {
   "cell_type": "code",
   "execution_count": 29,
   "metadata": {},
   "outputs": [],
   "source": [
    "dir_diff_deg = (ds_adcp_surf_aligned['direction'][:,zsurfi[-1]]\n",
    "                                             -ds_adcp_benthic_aligned['direction'][:,zboti[-1]])*180/np.pi\n",
    "\n",
    "tis1sub, = np.where((ds_adcp_benthic_aligned['time'] <= ds_adcp_benthic_deployment1['time'][-1]) & \n",
    "                    (ds_adcp_surf_aligned['speed'][:,zsurfi[-1]] > 0.1) & \n",
    "                    (dir_diff_deg > -180) & (dir_diff_deg < 180))\n",
    "\n",
    "tis2sub, = np.where((ds_adcp_benthic_aligned['time'] > ds_adcp_benthic_deployment1['time'][-1]) & \n",
    "                    (ds_adcp_surf_aligned['speed'][:,zsurfi[-1]] > 0.1) & \n",
    "                    (dir_diff_deg > -180) & (dir_diff_deg < 180))"
   ]
  },
  {
   "cell_type": "code",
   "execution_count": 30,
   "metadata": {},
   "outputs": [
    {
     "data": {
      "application/vnd.jupyter.widget-view+json": {
       "model_id": "429c62f972b9443b986e940bd6fbed51",
       "version_major": 2,
       "version_minor": 0
      },
      "text/plain": [
       "Canvas(toolbar=Toolbar(toolitems=[('Home', 'Reset original view', 'home', 'home'), ('Back', 'Back to previous …"
      ]
     },
     "metadata": {},
     "output_type": "display_data"
    }
   ],
   "source": [
    "plt.figure()\n",
    "plt.hist(dir_diff_deg[tis1sub],bins=180,range=[-360,360]);\n",
    "plt.xlim([-180,180]);\n",
    "plt.hist(dir_diff_deg[tis2sub],bins=180,range=[-360,360]);\n",
    "plt.xlim([-180,180]);\n",
    "yl = plt.ylim()\n",
    "plt.legend(['deployment 5','deployment 6'])\n",
    "\n",
    "dir_diff_mean1 = np.mean(dir_diff_deg[tis1sub])\n",
    "dir_diff_mean2 = np.mean(dir_diff_deg[tis2sub])\n",
    "\n",
    "plt.plot([dir_diff_mean1,dir_diff_mean1],yl)\n",
    "plt.plot([dir_diff_mean2,dir_diff_mean2],yl)\n",
    "plt.text(dir_diff_mean2,yl[1],str(dir_diff_mean2.values)[:5],verticalalignment='top')\n",
    "plt.text(dir_diff_mean1,yl[1],str(dir_diff_mean1.values)[:5],verticalalignment='top')\n",
    "plt.ylim(yl);\n",
    "plt.xlabel('angle difference (surface - benthic) [deg]');\n",
    "plt.ylabel('count');"
   ]
  },
  {
   "cell_type": "markdown",
   "metadata": {},
   "source": [
    "## Make compass corrections\n",
    "\n",
    "Rotate benthic ADCP vectors using mean angles calculated above"
   ]
  },
  {
   "cell_type": "code",
   "execution_count": 31,
   "metadata": {},
   "outputs": [],
   "source": [
    "ds_adcp_benthic_aligned_corrected = ds_adcp_benthic_aligned.copy().load()\n",
    "\n",
    "uc1,vc1 = rot(ds_adcp_benthic_aligned['eastward_seawater_velocity'].isel(time=tis1),\n",
    "           ds_adcp_benthic_aligned['northward_seawater_velocity'].isel(time=tis1),\n",
    "           dir_diff_mean1)\n",
    "\n",
    "uc2,vc2 = rot(ds_adcp_benthic_aligned['eastward_seawater_velocity'].isel(time=tis2),\n",
    "           ds_adcp_benthic_aligned['northward_seawater_velocity'].isel(time=tis2),\n",
    "           dir_diff_mean2)\n",
    "\n",
    "ds_adcp_benthic_aligned_corrected['eastward_seawater_velocity'][tis1,:] = uc1\n",
    "ds_adcp_benthic_aligned_corrected['northward_seawater_velocity'][tis1,:] = vc1\n",
    "\n",
    "ds_adcp_benthic_aligned_corrected['eastward_seawater_velocity'][tis2,:] = uc2\n",
    "ds_adcp_benthic_aligned_corrected['northward_seawater_velocity'][tis2,:] = vc2\n",
    "\n",
    "ds_adcp_benthic_aligned_corrected['direction'] = np.arctan2(ds_adcp_benthic_aligned_corrected['northward_seawater_velocity'],\n",
    "                                              ds_adcp_benthic_aligned_corrected['eastward_seawater_velocity'])"
   ]
  },
  {
   "cell_type": "code",
   "execution_count": 32,
   "metadata": {},
   "outputs": [
    {
     "data": {
      "application/vnd.jupyter.widget-view+json": {
       "model_id": "10ffcf17cc6b4b2dab0de35240a70224",
       "version_major": 2,
       "version_minor": 0
      },
      "text/plain": [
       "Canvas(toolbar=Toolbar(toolitems=[('Home', 'Reset original view', 'home', 'home'), ('Back', 'Back to previous …"
      ]
     },
     "metadata": {},
     "output_type": "display_data"
    },
    {
     "data": {
      "text/plain": [
       "Text(0, 0.5, '[deg]')"
      ]
     },
     "execution_count": 32,
     "metadata": {},
     "output_type": "execute_result"
    }
   ],
   "source": [
    "plt.figure()\n",
    "si, = np.where(ds_adcp_surf_aligned['speed'][:,zsurfi[-1]] > 0.1)\n",
    "\n",
    "plt.plot(ds_adcp_surf_aligned['time'][si],(ds_adcp_surf_aligned['direction'][si,zsurfi[-1]]\n",
    "          -ds_adcp_benthic_aligned_corrected['direction'][si,zboti[-1]])*180/np.pi,'.')\n",
    "plt.title('angle difference at '+str(depth_maxcorr)[:4]+'m')\n",
    "plt.ylabel('[deg]')"
   ]
  },
  {
   "cell_type": "code",
   "execution_count": 33,
   "metadata": {},
   "outputs": [
    {
     "data": {
      "application/vnd.jupyter.widget-view+json": {
       "model_id": "6b7afa1258764a549a2d2695f6e55318",
       "version_major": 2,
       "version_minor": 0
      },
      "text/plain": [
       "Canvas(toolbar=Toolbar(toolitems=[('Home', 'Reset original view', 'home', 'home'), ('Back', 'Back to previous …"
      ]
     },
     "metadata": {},
     "output_type": "display_data"
    },
    {
     "data": {
      "text/plain": [
       "Text(0.5, 0.98, 'northward velocity')"
      ]
     },
     "execution_count": 33,
     "metadata": {},
     "output_type": "execute_result"
    }
   ],
   "source": [
    "plt.figure(figsize=(8,4))\n",
    "plt.subplot(1,2,1)\n",
    "plt.plot(ds_adcp_benthic_aligned_corrected['northward_seawater_velocity'].mean(dim='time'),\n",
    "         ds_adcp_benthic_aligned_corrected['bin_depths'].mean(dim='time'),'^')\n",
    "plt.plot(ds_adcp_surf_aligned['northward_seawater_velocity'].mean(dim='time'),\n",
    "         ds_adcp_surf_aligned['bin_depths'].mean(dim='time'),'.')\n",
    "plt.plot(ds_adv_surf_aligned['northward_velocity'].mean(dim='time'),2,'o')\n",
    "plt.gca().invert_yaxis()\n",
    "plt.ylabel('depth [m]')\n",
    "plt.xlabel('mean v [m/s]')\n",
    "plt.legend(['bethic ADCP','surface ADCP','surface point'])\n",
    "plt.subplot(1,2,2)\n",
    "plt.plot(ds_adcp_benthic_aligned_corrected['northward_seawater_velocity'].std(dim='time'),\n",
    "         ds_adcp_benthic_aligned_corrected['bin_depths'].mean(dim='time'),'^')\n",
    "plt.plot(ds_adcp_surf_aligned['northward_seawater_velocity'].std(dim='time'),\n",
    "         ds_adcp_surf_aligned['bin_depths'].mean(dim='time'),'.')\n",
    "plt.plot(ds_adv_surf_aligned['northward_velocity'].std(dim='time'),\n",
    "         2,'o')\n",
    "plt.gca().invert_yaxis()\n",
    "plt.xlabel('std v [m/s]')\n",
    "plt.suptitle('northward velocity')"
   ]
  },
  {
   "cell_type": "code",
   "execution_count": 34,
   "metadata": {},
   "outputs": [
    {
     "data": {
      "application/vnd.jupyter.widget-view+json": {
       "model_id": "cf28bbd8ec4e45849f4c3fef1d736e9e",
       "version_major": 2,
       "version_minor": 0
      },
      "text/plain": [
       "Canvas(toolbar=Toolbar(toolitems=[('Home', 'Reset original view', 'home', 'home'), ('Back', 'Back to previous …"
      ]
     },
     "metadata": {},
     "output_type": "display_data"
    },
    {
     "data": {
      "text/plain": [
       "Text(0.5, 0.98, 'eastward velocity')"
      ]
     },
     "execution_count": 34,
     "metadata": {},
     "output_type": "execute_result"
    }
   ],
   "source": [
    "plt.figure(figsize=(8,4))\n",
    "plt.subplot(1,2,1)\n",
    "plt.plot(ds_adcp_benthic_aligned_corrected['eastward_seawater_velocity'].mean(dim='time'),\n",
    "         ds_adcp_benthic_aligned_corrected['bin_depths'].mean(dim='time'),'^')\n",
    "plt.plot(ds_adcp_surf_aligned['eastward_seawater_velocity'].mean(dim='time'),\n",
    "         ds_adcp_surf_aligned['bin_depths'].mean(dim='time'),'.')\n",
    "plt.plot(ds_adv_surf_aligned['eastward_velocity'].mean(dim='time'),2,'o')\n",
    "#plt.plot(ds_adv_benthic_aligned['vel3d_c_northward_turbulent_velocity'].mean(dim='time')/10,80,'s')\n",
    "plt.gca().invert_yaxis()\n",
    "plt.xlim([-0.25,0.25])\n",
    "plt.ylabel('depth [m]')\n",
    "plt.xlabel('mean u [m/s]')\n",
    "plt.subplot(1,2,2)\n",
    "plt.plot(ds_adcp_benthic_aligned['eastward_seawater_velocity'].std(dim='time'),\n",
    "         ds_adcp_benthic_aligned['bin_depths'].mean(dim='time'),'^')\n",
    "plt.plot(ds_adcp_surf_aligned['eastward_seawater_velocity'].std(dim='time'),\n",
    "         ds_adcp_surf_aligned['bin_depths'].mean(dim='time'),'.')\n",
    "plt.plot(ds_adv_surf_aligned['eastward_velocity'].std(dim='time'),\n",
    "         2,'o')\n",
    "#plt.plot(ds_adv_benthic_aligned['vel3d_c_northward_turbulent_velocity'].std(dim='time')/10,80,'s')\n",
    "plt.gca().invert_yaxis()\n",
    "plt.xlim([0,1])\n",
    "plt.xlabel('std u [m/s]')\n",
    "plt.suptitle('eastward velocity')"
   ]
  },
  {
   "cell_type": "markdown",
   "metadata": {},
   "source": [
    "## Combine data sets"
   ]
  },
  {
   "cell_type": "code",
   "execution_count": 35,
   "metadata": {},
   "outputs": [],
   "source": [
    "ds_adcp_surf_aligned_sub = ds_adcp_surf_aligned.isel(bin=zsurfi)"
   ]
  },
  {
   "cell_type": "code",
   "execution_count": 36,
   "metadata": {},
   "outputs": [],
   "source": [
    "ds_adcp_benthic_aligned_sub = ds_adcp_benthic_aligned_corrected.isel(bin=zboti)"
   ]
  },
  {
   "cell_type": "code",
   "execution_count": 37,
   "metadata": {},
   "outputs": [],
   "source": [
    "ds_adcp_surf_aligned_sub = ds_adcp_surf_aligned_sub.swap_dims({'bin':'bin_depths_avg'})\n",
    "ds_adcp_surf_aligned_sub = ds_adcp_surf_aligned_sub.reset_coords('bin')"
   ]
  },
  {
   "cell_type": "code",
   "execution_count": 38,
   "metadata": {},
   "outputs": [],
   "source": [
    "ds_adcp_surf_aligned_sub2 = ds_adcp_surf_aligned_sub[['eastward_seawater_velocity','northward_seawater_velocity',\n",
    "                                                            'bin_depths']]"
   ]
  },
  {
   "cell_type": "code",
   "execution_count": 39,
   "metadata": {},
   "outputs": [],
   "source": [
    "ds_adcp_benthic_aligned_sub = ds_adcp_benthic_aligned_sub.swap_dims({'bin':'bin_depths_avg'})\n",
    "ds_adcp_benthic_aligned_sub = ds_adcp_benthic_aligned_sub.reset_coords('bin')"
   ]
  },
  {
   "cell_type": "code",
   "execution_count": 40,
   "metadata": {},
   "outputs": [],
   "source": [
    "ds_adcp_benthic_aligned_sub2 = ds_adcp_benthic_aligned_sub[['eastward_seawater_velocity','northward_seawater_velocity',\n",
    "                                                            'bin_depths',\n",
    "                                                            'sea_surface','depth_from_pressure']]"
   ]
  },
  {
   "cell_type": "code",
   "execution_count": 41,
   "metadata": {},
   "outputs": [],
   "source": [
    "ds_adv_surf_aligned_sub = ds_adv_surf_aligned.swap_dims({'bin':'bin_depths_avg'})"
   ]
  },
  {
   "cell_type": "code",
   "execution_count": 42,
   "metadata": {},
   "outputs": [],
   "source": [
    "ds_adv_surf_aligned_sub = ds_adv_surf_aligned_sub.reset_coords('bin')"
   ]
  },
  {
   "cell_type": "code",
   "execution_count": 43,
   "metadata": {},
   "outputs": [],
   "source": [
    "ds_adv_surf_aligned_sub2 = ds_adv_surf_aligned_sub[['eastward_seawater_velocity','northward_seawater_velocity',\n",
    "                                                            'bin_depths']]"
   ]
  },
  {
   "cell_type": "code",
   "execution_count": 44,
   "metadata": {},
   "outputs": [],
   "source": [
    "ds_merged = xr.concat([ds_adv_surf_aligned_sub2,\n",
    "                      ds_adcp_surf_aligned_sub2,\n",
    "                      ds_adcp_benthic_aligned_sub2],\n",
    "                     dim='bin_depths_avg',coords='minimal',data_vars='minimal',compat='override')"
   ]
  },
  {
   "cell_type": "code",
   "execution_count": 45,
   "metadata": {},
   "outputs": [
    {
     "data": {
      "text/html": [
       "<div><svg style=\"position: absolute; width: 0; height: 0; overflow: hidden\">\n",
       "<defs>\n",
       "<symbol id=\"icon-database\" viewBox=\"0 0 32 32\">\n",
       "<path d=\"M16 0c-8.837 0-16 2.239-16 5v4c0 2.761 7.163 5 16 5s16-2.239 16-5v-4c0-2.761-7.163-5-16-5z\"></path>\n",
       "<path d=\"M16 17c-8.837 0-16-2.239-16-5v6c0 2.761 7.163 5 16 5s16-2.239 16-5v-6c0 2.761-7.163 5-16 5z\"></path>\n",
       "<path d=\"M16 26c-8.837 0-16-2.239-16-5v6c0 2.761 7.163 5 16 5s16-2.239 16-5v-6c0 2.761-7.163 5-16 5z\"></path>\n",
       "</symbol>\n",
       "<symbol id=\"icon-file-text2\" viewBox=\"0 0 32 32\">\n",
       "<path d=\"M28.681 7.159c-0.694-0.947-1.662-2.053-2.724-3.116s-2.169-2.030-3.116-2.724c-1.612-1.182-2.393-1.319-2.841-1.319h-15.5c-1.378 0-2.5 1.121-2.5 2.5v27c0 1.378 1.122 2.5 2.5 2.5h23c1.378 0 2.5-1.122 2.5-2.5v-19.5c0-0.448-0.137-1.23-1.319-2.841zM24.543 5.457c0.959 0.959 1.712 1.825 2.268 2.543h-4.811v-4.811c0.718 0.556 1.584 1.309 2.543 2.268zM28 29.5c0 0.271-0.229 0.5-0.5 0.5h-23c-0.271 0-0.5-0.229-0.5-0.5v-27c0-0.271 0.229-0.5 0.5-0.5 0 0 15.499-0 15.5 0v7c0 0.552 0.448 1 1 1h7v19.5z\"></path>\n",
       "<path d=\"M23 26h-14c-0.552 0-1-0.448-1-1s0.448-1 1-1h14c0.552 0 1 0.448 1 1s-0.448 1-1 1z\"></path>\n",
       "<path d=\"M23 22h-14c-0.552 0-1-0.448-1-1s0.448-1 1-1h14c0.552 0 1 0.448 1 1s-0.448 1-1 1z\"></path>\n",
       "<path d=\"M23 18h-14c-0.552 0-1-0.448-1-1s0.448-1 1-1h14c0.552 0 1 0.448 1 1s-0.448 1-1 1z\"></path>\n",
       "</symbol>\n",
       "</defs>\n",
       "</svg>\n",
       "<style>/* CSS stylesheet for displaying xarray objects in jupyterlab.\n",
       " *\n",
       " */\n",
       "\n",
       ":root {\n",
       "  --xr-font-color0: var(--jp-content-font-color0, rgba(0, 0, 0, 1));\n",
       "  --xr-font-color2: var(--jp-content-font-color2, rgba(0, 0, 0, 0.54));\n",
       "  --xr-font-color3: var(--jp-content-font-color3, rgba(0, 0, 0, 0.38));\n",
       "  --xr-border-color: var(--jp-border-color2, #e0e0e0);\n",
       "  --xr-disabled-color: var(--jp-layout-color3, #bdbdbd);\n",
       "  --xr-background-color: var(--jp-layout-color0, white);\n",
       "  --xr-background-color-row-even: var(--jp-layout-color1, white);\n",
       "  --xr-background-color-row-odd: var(--jp-layout-color2, #eeeeee);\n",
       "}\n",
       "\n",
       "html[theme=dark],\n",
       "body.vscode-dark {\n",
       "  --xr-font-color0: rgba(255, 255, 255, 1);\n",
       "  --xr-font-color2: rgba(255, 255, 255, 0.54);\n",
       "  --xr-font-color3: rgba(255, 255, 255, 0.38);\n",
       "  --xr-border-color: #1F1F1F;\n",
       "  --xr-disabled-color: #515151;\n",
       "  --xr-background-color: #111111;\n",
       "  --xr-background-color-row-even: #111111;\n",
       "  --xr-background-color-row-odd: #313131;\n",
       "}\n",
       "\n",
       ".xr-wrap {\n",
       "  display: block;\n",
       "  min-width: 300px;\n",
       "  max-width: 700px;\n",
       "}\n",
       "\n",
       ".xr-text-repr-fallback {\n",
       "  /* fallback to plain text repr when CSS is not injected (untrusted notebook) */\n",
       "  display: none;\n",
       "}\n",
       "\n",
       ".xr-header {\n",
       "  padding-top: 6px;\n",
       "  padding-bottom: 6px;\n",
       "  margin-bottom: 4px;\n",
       "  border-bottom: solid 1px var(--xr-border-color);\n",
       "}\n",
       "\n",
       ".xr-header > div,\n",
       ".xr-header > ul {\n",
       "  display: inline;\n",
       "  margin-top: 0;\n",
       "  margin-bottom: 0;\n",
       "}\n",
       "\n",
       ".xr-obj-type,\n",
       ".xr-array-name {\n",
       "  margin-left: 2px;\n",
       "  margin-right: 10px;\n",
       "}\n",
       "\n",
       ".xr-obj-type {\n",
       "  color: var(--xr-font-color2);\n",
       "}\n",
       "\n",
       ".xr-sections {\n",
       "  padding-left: 0 !important;\n",
       "  display: grid;\n",
       "  grid-template-columns: 150px auto auto 1fr 20px 20px;\n",
       "}\n",
       "\n",
       ".xr-section-item {\n",
       "  display: contents;\n",
       "}\n",
       "\n",
       ".xr-section-item input {\n",
       "  display: none;\n",
       "}\n",
       "\n",
       ".xr-section-item input + label {\n",
       "  color: var(--xr-disabled-color);\n",
       "}\n",
       "\n",
       ".xr-section-item input:enabled + label {\n",
       "  cursor: pointer;\n",
       "  color: var(--xr-font-color2);\n",
       "}\n",
       "\n",
       ".xr-section-item input:enabled + label:hover {\n",
       "  color: var(--xr-font-color0);\n",
       "}\n",
       "\n",
       ".xr-section-summary {\n",
       "  grid-column: 1;\n",
       "  color: var(--xr-font-color2);\n",
       "  font-weight: 500;\n",
       "}\n",
       "\n",
       ".xr-section-summary > span {\n",
       "  display: inline-block;\n",
       "  padding-left: 0.5em;\n",
       "}\n",
       "\n",
       ".xr-section-summary-in:disabled + label {\n",
       "  color: var(--xr-font-color2);\n",
       "}\n",
       "\n",
       ".xr-section-summary-in + label:before {\n",
       "  display: inline-block;\n",
       "  content: '►';\n",
       "  font-size: 11px;\n",
       "  width: 15px;\n",
       "  text-align: center;\n",
       "}\n",
       "\n",
       ".xr-section-summary-in:disabled + label:before {\n",
       "  color: var(--xr-disabled-color);\n",
       "}\n",
       "\n",
       ".xr-section-summary-in:checked + label:before {\n",
       "  content: '▼';\n",
       "}\n",
       "\n",
       ".xr-section-summary-in:checked + label > span {\n",
       "  display: none;\n",
       "}\n",
       "\n",
       ".xr-section-summary,\n",
       ".xr-section-inline-details {\n",
       "  padding-top: 4px;\n",
       "  padding-bottom: 4px;\n",
       "}\n",
       "\n",
       ".xr-section-inline-details {\n",
       "  grid-column: 2 / -1;\n",
       "}\n",
       "\n",
       ".xr-section-details {\n",
       "  display: none;\n",
       "  grid-column: 1 / -1;\n",
       "  margin-bottom: 5px;\n",
       "}\n",
       "\n",
       ".xr-section-summary-in:checked ~ .xr-section-details {\n",
       "  display: contents;\n",
       "}\n",
       "\n",
       ".xr-array-wrap {\n",
       "  grid-column: 1 / -1;\n",
       "  display: grid;\n",
       "  grid-template-columns: 20px auto;\n",
       "}\n",
       "\n",
       ".xr-array-wrap > label {\n",
       "  grid-column: 1;\n",
       "  vertical-align: top;\n",
       "}\n",
       "\n",
       ".xr-preview {\n",
       "  color: var(--xr-font-color3);\n",
       "}\n",
       "\n",
       ".xr-array-preview,\n",
       ".xr-array-data {\n",
       "  padding: 0 5px !important;\n",
       "  grid-column: 2;\n",
       "}\n",
       "\n",
       ".xr-array-data,\n",
       ".xr-array-in:checked ~ .xr-array-preview {\n",
       "  display: none;\n",
       "}\n",
       "\n",
       ".xr-array-in:checked ~ .xr-array-data,\n",
       ".xr-array-preview {\n",
       "  display: inline-block;\n",
       "}\n",
       "\n",
       ".xr-dim-list {\n",
       "  display: inline-block !important;\n",
       "  list-style: none;\n",
       "  padding: 0 !important;\n",
       "  margin: 0;\n",
       "}\n",
       "\n",
       ".xr-dim-list li {\n",
       "  display: inline-block;\n",
       "  padding: 0;\n",
       "  margin: 0;\n",
       "}\n",
       "\n",
       ".xr-dim-list:before {\n",
       "  content: '(';\n",
       "}\n",
       "\n",
       ".xr-dim-list:after {\n",
       "  content: ')';\n",
       "}\n",
       "\n",
       ".xr-dim-list li:not(:last-child):after {\n",
       "  content: ',';\n",
       "  padding-right: 5px;\n",
       "}\n",
       "\n",
       ".xr-has-index {\n",
       "  font-weight: bold;\n",
       "}\n",
       "\n",
       ".xr-var-list,\n",
       ".xr-var-item {\n",
       "  display: contents;\n",
       "}\n",
       "\n",
       ".xr-var-item > div,\n",
       ".xr-var-item label,\n",
       ".xr-var-item > .xr-var-name span {\n",
       "  background-color: var(--xr-background-color-row-even);\n",
       "  margin-bottom: 0;\n",
       "}\n",
       "\n",
       ".xr-var-item > .xr-var-name:hover span {\n",
       "  padding-right: 5px;\n",
       "}\n",
       "\n",
       ".xr-var-list > li:nth-child(odd) > div,\n",
       ".xr-var-list > li:nth-child(odd) > label,\n",
       ".xr-var-list > li:nth-child(odd) > .xr-var-name span {\n",
       "  background-color: var(--xr-background-color-row-odd);\n",
       "}\n",
       "\n",
       ".xr-var-name {\n",
       "  grid-column: 1;\n",
       "}\n",
       "\n",
       ".xr-var-dims {\n",
       "  grid-column: 2;\n",
       "}\n",
       "\n",
       ".xr-var-dtype {\n",
       "  grid-column: 3;\n",
       "  text-align: right;\n",
       "  color: var(--xr-font-color2);\n",
       "}\n",
       "\n",
       ".xr-var-preview {\n",
       "  grid-column: 4;\n",
       "}\n",
       "\n",
       ".xr-var-name,\n",
       ".xr-var-dims,\n",
       ".xr-var-dtype,\n",
       ".xr-preview,\n",
       ".xr-attrs dt {\n",
       "  white-space: nowrap;\n",
       "  overflow: hidden;\n",
       "  text-overflow: ellipsis;\n",
       "  padding-right: 10px;\n",
       "}\n",
       "\n",
       ".xr-var-name:hover,\n",
       ".xr-var-dims:hover,\n",
       ".xr-var-dtype:hover,\n",
       ".xr-attrs dt:hover {\n",
       "  overflow: visible;\n",
       "  width: auto;\n",
       "  z-index: 1;\n",
       "}\n",
       "\n",
       ".xr-var-attrs,\n",
       ".xr-var-data {\n",
       "  display: none;\n",
       "  background-color: var(--xr-background-color) !important;\n",
       "  padding-bottom: 5px !important;\n",
       "}\n",
       "\n",
       ".xr-var-attrs-in:checked ~ .xr-var-attrs,\n",
       ".xr-var-data-in:checked ~ .xr-var-data {\n",
       "  display: block;\n",
       "}\n",
       "\n",
       ".xr-var-data > table {\n",
       "  float: right;\n",
       "}\n",
       "\n",
       ".xr-var-name span,\n",
       ".xr-var-data,\n",
       ".xr-attrs {\n",
       "  padding-left: 25px !important;\n",
       "}\n",
       "\n",
       ".xr-attrs,\n",
       ".xr-var-attrs,\n",
       ".xr-var-data {\n",
       "  grid-column: 1 / -1;\n",
       "}\n",
       "\n",
       "dl.xr-attrs {\n",
       "  padding: 0;\n",
       "  margin: 0;\n",
       "  display: grid;\n",
       "  grid-template-columns: 125px auto;\n",
       "}\n",
       "\n",
       ".xr-attrs dt,\n",
       ".xr-attrs dd {\n",
       "  padding: 0;\n",
       "  margin: 0;\n",
       "  float: left;\n",
       "  padding-right: 10px;\n",
       "  width: auto;\n",
       "}\n",
       "\n",
       ".xr-attrs dt {\n",
       "  font-weight: normal;\n",
       "  grid-column: 1;\n",
       "}\n",
       "\n",
       ".xr-attrs dt:hover span {\n",
       "  display: inline-block;\n",
       "  background: var(--xr-background-color);\n",
       "  padding-right: 10px;\n",
       "}\n",
       "\n",
       ".xr-attrs dd {\n",
       "  grid-column: 2;\n",
       "  white-space: pre-wrap;\n",
       "  word-break: break-all;\n",
       "}\n",
       "\n",
       ".xr-icon-database,\n",
       ".xr-icon-file-text2 {\n",
       "  display: inline-block;\n",
       "  vertical-align: middle;\n",
       "  width: 1em;\n",
       "  height: 1.5em !important;\n",
       "  stroke-width: 0;\n",
       "  stroke: currentColor;\n",
       "  fill: currentColor;\n",
       "}\n",
       "</style><pre class='xr-text-repr-fallback'>&lt;xarray.Dataset&gt;\n",
       "Dimensions:                      (bin_depths_avg: 37, time: 17510)\n",
       "Coordinates:\n",
       "  * time                         (time) datetime64[ns] 2019-04-20T00:30:00 .....\n",
       "    obs                          (time) int32 2 3 4 5 ... 17813 17814 17815\n",
       "  * bin_depths_avg               (bin_depths_avg) float64 1.894 9.148 ... 38.6\n",
       "Data variables:\n",
       "    depth_from_pressure          (time) float64 80.06 79.97 79.9 ... 81.07 81.13\n",
       "    sea_surface                  (time) float64 -0.7068 -0.7922 ... 0.3683\n",
       "    eastward_seawater_velocity   (time, bin_depths_avg) float64 -0.1552 ... 0...\n",
       "    northward_seawater_velocity  (time, bin_depths_avg) float64 -0.4895 ... 0...\n",
       "    bin_depths                   (time, bin_depths_avg) float64 1.842 ... 38.98\n",
       "Attributes:\n",
       "    node:                               SBD11\n",
       "    comment:                            \n",
       "    publisher_email:                    \n",
       "    sourceUrl:                          http://oceanobservatories.org/\n",
       "    collection_method:                  recovered_inst\n",
       "    stream:                             velpt_ab_instrument_recovered\n",
       "    featureType:                        point\n",
       "    creator_email:                      \n",
       "    publisher_name:                     Ocean Observatories Initiative\n",
       "    date_modified:                      2020-08-16T12:20:33.910748\n",
       "    keywords:                           \n",
       "    cdm_data_type:                      Point\n",
       "    references:                         More information can be found at http...\n",
       "    Metadata_Conventions:               Unidata Dataset Discovery v1.0\n",
       "    date_created:                       2020-08-16T12:20:33.910735\n",
       "    id:                                 CE02SHSM-SBD11-04-VELPTA000-recovered...\n",
       "    requestUUID:                        06b0f3a7-e6c1-4491-b52d-48846c09fb14\n",
       "    contributor_role:                   \n",
       "    summary:                            Dataset Generated by Stream Engine fr...\n",
       "    keywords_vocabulary:                \n",
       "    institution:                        Ocean Observatories Initiative\n",
       "    naming_authority:                   org.oceanobservatories\n",
       "    feature_Type:                       point\n",
       "    infoUrl:                            http://oceanobservatories.org/\n",
       "    license:                            \n",
       "    contributor_name:                   \n",
       "    uuid:                               06b0f3a7-e6c1-4491-b52d-48846c09fb14\n",
       "    creator_name:                       Ocean Observatories Initiative\n",
       "    title:                              Data produced by Stream Engine versio...\n",
       "    sensor:                             04-VELPTA000\n",
       "    standard_name_vocabulary:           NetCDF Climate and Forecast (CF) Meta...\n",
       "    acknowledgement:                    \n",
       "    Conventions:                        CF-1.6\n",
       "    project:                            Ocean Observatories Initiative\n",
       "    source:                             CE02SHSM-SBD11-04-VELPTA000-recovered...\n",
       "    publisher_url:                      http://oceanobservatories.org/\n",
       "    creator_url:                        http://oceanobservatories.org/\n",
       "    nodc_template_version:              NODC_NetCDF_TimeSeries_Orthogonal_Tem...\n",
       "    subsite:                            CE02SHSM\n",
       "    processing_level:                   L2\n",
       "    history:                            2020-08-16T12:20:33.910616 generated ...\n",
       "    Manufacturer:                       Nortek\n",
       "    ModelNumber:                        Aquadopp\n",
       "    SerialNumber:                       AQD 12742\n",
       "    Description:                        Single Point Velocity Meter: VELPT Se...\n",
       "    FirmwareVersion:                    Not specified.\n",
       "    SoftwareVersion:                    Not specified.\n",
       "    AssetUniqueID:                      CGINS-VELPTA-12742\n",
       "    Notes:                              Not specified.\n",
       "    Owner:                              Not specified.\n",
       "    RemoteResources:                    []\n",
       "    ShelfLifeExpirationDate:            Not specified.\n",
       "    Mobile:                             False\n",
       "    AssetManagementRecordLastModified:  2020-08-14T18:41:32.787000\n",
       "    time_coverage_start:                2019-04-20T00:00:00\n",
       "    time_coverage_end:                  2019-10-22T15:30:00\n",
       "    time_coverage_resolution:           P899.95S\n",
       "    geospatial_lat_min:                 44.63558\n",
       "    geospatial_lat_max:                 44.63558\n",
       "    geospatial_lat_units:               degrees_north\n",
       "    geospatial_lat_resolution:          0.1\n",
       "    geospatial_lon_min:                 -124.3039\n",
       "    geospatial_lon_max:                 -124.3039\n",
       "    geospatial_lon_units:               degrees_east\n",
       "    geospatial_lon_resolution:          0.1\n",
       "    geospatial_vertical_units:          meters\n",
       "    geospatial_vertical_resolution:     0.1\n",
       "    geospatial_vertical_positive:       down\n",
       "    lat:                                44.63558\n",
       "    lon:                                -124.3039</pre><div class='xr-wrap' hidden><div class='xr-header'><div class='xr-obj-type'>xarray.Dataset</div></div><ul class='xr-sections'><li class='xr-section-item'><input id='section-18ac0918-8951-4e5e-85ff-f92db690350d' class='xr-section-summary-in' type='checkbox' disabled ><label for='section-18ac0918-8951-4e5e-85ff-f92db690350d' class='xr-section-summary'  title='Expand/collapse section'>Dimensions:</label><div class='xr-section-inline-details'><ul class='xr-dim-list'><li><span class='xr-has-index'>bin_depths_avg</span>: 37</li><li><span class='xr-has-index'>time</span>: 17510</li></ul></div><div class='xr-section-details'></div></li><li class='xr-section-item'><input id='section-9f99b122-56e3-4e03-9bf9-45a71d256393' class='xr-section-summary-in' type='checkbox'  checked><label for='section-9f99b122-56e3-4e03-9bf9-45a71d256393' class='xr-section-summary' >Coordinates: <span>(3)</span></label><div class='xr-section-inline-details'></div><div class='xr-section-details'><ul class='xr-var-list'><li class='xr-var-item'><div class='xr-var-name'><span class='xr-has-index'>time</span></div><div class='xr-var-dims'>(time)</div><div class='xr-var-dtype'>datetime64[ns]</div><div class='xr-var-preview xr-preview'>2019-04-20T00:30:00 ... 2019-10-...</div><input id='attrs-1fe1c3e1-67ba-491c-95d9-9f41640d948f' class='xr-var-attrs-in' type='checkbox' ><label for='attrs-1fe1c3e1-67ba-491c-95d9-9f41640d948f' title='Show/Hide attributes'><svg class='icon xr-icon-file-text2'><use xlink:href='#icon-file-text2'></use></svg></label><input id='data-44a51f8e-3535-4826-bdb6-1580cb1a381d' class='xr-var-data-in' type='checkbox'><label for='data-44a51f8e-3535-4826-bdb6-1580cb1a381d' title='Show/Hide data repr'><svg class='icon xr-icon-database'><use xlink:href='#icon-database'></use></svg></label><div class='xr-var-attrs'><dl class='xr-attrs'><dt><span>long_name :</span></dt><dd>time</dd><dt><span>standard_name :</span></dt><dd>time</dd><dt><span>axis :</span></dt><dd>T</dd></dl></div><div class='xr-var-data'><pre>array([&#x27;2019-04-20T00:30:00.000000000&#x27;, &#x27;2019-04-20T00:45:00.000000000&#x27;,\n",
       "       &#x27;2019-04-20T01:00:00.000000000&#x27;, ..., &#x27;2019-10-22T13:15:00.000000000&#x27;,\n",
       "       &#x27;2019-10-22T13:30:00.000000000&#x27;, &#x27;2019-10-22T13:45:00.000000000&#x27;],\n",
       "      dtype=&#x27;datetime64[ns]&#x27;)</pre></div></li><li class='xr-var-item'><div class='xr-var-name'><span>obs</span></div><div class='xr-var-dims'>(time)</div><div class='xr-var-dtype'>int32</div><div class='xr-var-preview xr-preview'>2 3 4 5 ... 17812 17813 17814 17815</div><input id='attrs-d9d1b66e-e8e7-4b5f-b179-c1c7d0790785' class='xr-var-attrs-in' type='checkbox' disabled><label for='attrs-d9d1b66e-e8e7-4b5f-b179-c1c7d0790785' title='Show/Hide attributes'><svg class='icon xr-icon-file-text2'><use xlink:href='#icon-file-text2'></use></svg></label><input id='data-89bc8e0c-339b-47bf-a0bf-cd66d5978e7c' class='xr-var-data-in' type='checkbox'><label for='data-89bc8e0c-339b-47bf-a0bf-cd66d5978e7c' title='Show/Hide data repr'><svg class='icon xr-icon-database'><use xlink:href='#icon-database'></use></svg></label><div class='xr-var-attrs'><dl class='xr-attrs'></dl></div><div class='xr-var-data'><pre>array([    2,     3,     4, ..., 17813, 17814, 17815], dtype=int32)</pre></div></li><li class='xr-var-item'><div class='xr-var-name'><span class='xr-has-index'>bin_depths_avg</span></div><div class='xr-var-dims'>(bin_depths_avg)</div><div class='xr-var-dtype'>float64</div><div class='xr-var-preview xr-preview'>1.894 9.148 10.15 ... 42.6 38.6</div><input id='attrs-683299a8-4356-42bd-aa0a-0ccb87bdbacd' class='xr-var-attrs-in' type='checkbox' ><label for='attrs-683299a8-4356-42bd-aa0a-0ccb87bdbacd' title='Show/Hide attributes'><svg class='icon xr-icon-file-text2'><use xlink:href='#icon-file-text2'></use></svg></label><input id='data-1ef466df-9142-49dc-8e6e-54106f0b1f91' class='xr-var-data-in' type='checkbox'><label for='data-1ef466df-9142-49dc-8e6e-54106f0b1f91' title='Show/Hide data repr'><svg class='icon xr-icon-database'><use xlink:href='#icon-database'></use></svg></label><div class='xr-var-attrs'><dl class='xr-attrs'><dt><span>units :</span></dt><dd>m</dd></dl></div><div class='xr-var-data'><pre>array([ 1.893978,  9.147893, 10.147893, 11.147893, 12.147893, 13.147893,\n",
       "       14.147893, 15.147893, 16.147893, 17.147893, 18.147893, 19.147893,\n",
       "       20.147893, 21.147893, 22.147893, 23.147893, 24.147893, 25.147893,\n",
       "       26.147893, 27.147893, 28.147893, 29.147893, 30.147893, 31.147893,\n",
       "       32.147893, 33.147893, 34.147893, 74.602792, 70.602792, 66.602792,\n",
       "       62.602792, 58.602792, 54.602792, 50.602792, 46.602792, 42.602792,\n",
       "       38.602792])</pre></div></li></ul></div></li><li class='xr-section-item'><input id='section-f2cb2712-9ad6-42d5-9d7a-9bcfce196146' class='xr-section-summary-in' type='checkbox'  checked><label for='section-f2cb2712-9ad6-42d5-9d7a-9bcfce196146' class='xr-section-summary' >Data variables: <span>(5)</span></label><div class='xr-section-inline-details'></div><div class='xr-section-details'><ul class='xr-var-list'><li class='xr-var-item'><div class='xr-var-name'><span>depth_from_pressure</span></div><div class='xr-var-dims'>(time)</div><div class='xr-var-dtype'>float64</div><div class='xr-var-preview xr-preview'>80.06 79.97 79.9 ... 81.07 81.13</div><input id='attrs-341ef6a8-778c-4924-b3fc-15bc0fbfba14' class='xr-var-attrs-in' type='checkbox' disabled><label for='attrs-341ef6a8-778c-4924-b3fc-15bc0fbfba14' title='Show/Hide attributes'><svg class='icon xr-icon-file-text2'><use xlink:href='#icon-file-text2'></use></svg></label><input id='data-22c981ef-78e9-4fc2-91be-205c7ee19a57' class='xr-var-data-in' type='checkbox'><label for='data-22c981ef-78e9-4fc2-91be-205c7ee19a57' title='Show/Hide data repr'><svg class='icon xr-icon-database'><use xlink:href='#icon-database'></use></svg></label><div class='xr-var-attrs'><dl class='xr-attrs'></dl></div><div class='xr-var-data'><pre>array([80.05602422, 79.97064068, 79.89546966, ..., 81.00665311,\n",
       "       81.06869783, 81.13106639])</pre></div></li><li class='xr-var-item'><div class='xr-var-name'><span>sea_surface</span></div><div class='xr-var-dims'>(time)</div><div class='xr-var-dtype'>float64</div><div class='xr-var-preview xr-preview'>-0.7068 -0.7922 ... 0.3059 0.3683</div><input id='attrs-e1367895-e10e-48f0-9561-fd8a114980e9' class='xr-var-attrs-in' type='checkbox' ><label for='attrs-e1367895-e10e-48f0-9561-fd8a114980e9' title='Show/Hide attributes'><svg class='icon xr-icon-file-text2'><use xlink:href='#icon-file-text2'></use></svg></label><input id='data-b4d2f3db-b17d-4d19-baef-40eb4fc95b7b' class='xr-var-data-in' type='checkbox'><label for='data-b4d2f3db-b17d-4d19-baef-40eb4fc95b7b' title='Show/Hide data repr'><svg class='icon xr-icon-database'><use xlink:href='#icon-database'></use></svg></label><div class='xr-var-attrs'><dl class='xr-attrs'><dt><span>units :</span></dt><dd>m</dd></dl></div><div class='xr-var-data'><pre>array([-0.70676757, -0.79215111, -0.86732213, ...,  0.24386132,\n",
       "        0.30590604,  0.3682746 ])</pre></div></li><li class='xr-var-item'><div class='xr-var-name'><span>eastward_seawater_velocity</span></div><div class='xr-var-dims'>(time, bin_depths_avg)</div><div class='xr-var-dtype'>float64</div><div class='xr-var-preview xr-preview'>-0.1552 -0.1532 ... 0.0326 0.03763</div><input id='attrs-ea453728-ed6f-4ce6-b2d4-b71429ee1dd5' class='xr-var-attrs-in' type='checkbox' ><label for='attrs-ea453728-ed6f-4ce6-b2d4-b71429ee1dd5' title='Show/Hide attributes'><svg class='icon xr-icon-file-text2'><use xlink:href='#icon-file-text2'></use></svg></label><input id='data-4ec4cb3d-5531-4b59-9437-48512992cfb3' class='xr-var-data-in' type='checkbox'><label for='data-4ec4cb3d-5531-4b59-9437-48512992cfb3' title='Show/Hide data repr'><svg class='icon xr-icon-database'><use xlink:href='#icon-database'></use></svg></label><div class='xr-var-attrs'><dl class='xr-attrs'><dt><span>comment :</span></dt><dd>Mean Point Seawater Velocity refers to the velocity (speed and direction) of a single &quot;point&quot; of water (in this case, a volume of several square meters) averaged over time-scales associated with surface gravity waves. This instrument estimates water velocity by measuring the Doppler shift of acoustic signals reflected by particles suspended in the water. This data product is the eastward component of mean point seawater velocity in earth coordinates relative to true north (accounted for magnetic variation).</dd><dt><span>long_name :</span></dt><dd>Eastward Mean Point Seawater Velocity</dd><dt><span>coordinates :</span></dt><dd>time lat lon pressure_mbar</dd><dt><span>data_product_identifier :</span></dt><dd>VELPTMN-VLE_L1</dd><dt><span>standard_name :</span></dt><dd>eastward_sea_water_velocity</dd><dt><span>units :</span></dt><dd>m s-1</dd><dt><span>ancillary_variables :</span></dt><dd>velocity_beam1 time velocity_beam2</dd></dl></div><div class='xr-var-data'><pre>array([[-0.15517441, -0.15321364, -0.16390866, ..., -0.19566815,\n",
       "        -0.17373918, -0.15537705],\n",
       "       [-0.1398653 , -0.14696886, -0.1452499 , ..., -0.19486528,\n",
       "        -0.1736452 , -0.15628631],\n",
       "       [-0.16804054, -0.20661546, -0.22904222, ..., -0.18682792,\n",
       "        -0.16895934, -0.16563952],\n",
       "       ...,\n",
       "       [ 0.12443848,  0.06671584,  0.07831002, ..., -0.02879538,\n",
       "        -0.00528555,  0.02831973],\n",
       "       [ 0.18796916, -0.00568893, -0.00047602, ..., -0.03559787,\n",
       "        -0.0043956 ,  0.01022204],\n",
       "       [ 0.02441378, -0.06966231, -0.04498565, ...,  0.01535199,\n",
       "         0.03260248,  0.03762893]])</pre></div></li><li class='xr-var-item'><div class='xr-var-name'><span>northward_seawater_velocity</span></div><div class='xr-var-dims'>(time, bin_depths_avg)</div><div class='xr-var-dtype'>float64</div><div class='xr-var-preview xr-preview'>-0.4895 -0.3896 ... 0.07569 0.05275</div><input id='attrs-3b332d28-d3af-4052-991d-9ea12e8cc348' class='xr-var-attrs-in' type='checkbox' ><label for='attrs-3b332d28-d3af-4052-991d-9ea12e8cc348' title='Show/Hide attributes'><svg class='icon xr-icon-file-text2'><use xlink:href='#icon-file-text2'></use></svg></label><input id='data-3924bd35-3228-427b-be34-5b19e5b1978b' class='xr-var-data-in' type='checkbox'><label for='data-3924bd35-3228-427b-be34-5b19e5b1978b' title='Show/Hide data repr'><svg class='icon xr-icon-database'><use xlink:href='#icon-database'></use></svg></label><div class='xr-var-attrs'><dl class='xr-attrs'><dt><span>comment :</span></dt><dd>Mean Point Seawater Velocity refers to the velocity (speed and direction) of a single &quot;point&quot; of water (in this case, a volume of several square meters) averaged over time-scales associated with surface gravity waves. This instrument estimates water velocity by measuring the Doppler shift of acoustic signals reflected by particles suspended in the water. This data product is the northward component of mean point seawater velocity in earth coordinates relative to true north (accounted for magnetic variation).</dd><dt><span>long_name :</span></dt><dd>Northward Mean Point Seawater Velocity</dd><dt><span>coordinates :</span></dt><dd>time lat lon pressure_mbar</dd><dt><span>data_product_identifier :</span></dt><dd>VELPTMN-VLN_L1</dd><dt><span>standard_name :</span></dt><dd>northward_sea_water_velocity</dd><dt><span>units :</span></dt><dd>m s-1</dd><dt><span>ancillary_variables :</span></dt><dd>velocity_beam1 time velocity_beam2</dd></dl></div><div class='xr-var-data'><pre>array([[-0.48950884, -0.3896031 , -0.3908746 , ..., -0.2461544 ,\n",
       "        -0.27693574, -0.29517527],\n",
       "       [-0.54435071, -0.35089906, -0.36378492, ..., -0.23414833,\n",
       "        -0.26955556, -0.2876392 ],\n",
       "       [-0.56060358, -0.34938811, -0.35579441, ..., -0.22790872,\n",
       "        -0.25760567, -0.29015779],\n",
       "       ...,\n",
       "       [-0.06115607, -0.09129073, -0.09438506, ...,  0.07892628,\n",
       "         0.07236702,  0.07355031],\n",
       "       [-0.29235697, -0.09887687, -0.12200317, ...,  0.09391552,\n",
       "         0.08139059,  0.07010301],\n",
       "       [-0.31184125, -0.14079831, -0.11426413, ...,  0.09567229,\n",
       "         0.07569444,  0.05275325]])</pre></div></li><li class='xr-var-item'><div class='xr-var-name'><span>bin_depths</span></div><div class='xr-var-dims'>(time, bin_depths_avg)</div><div class='xr-var-dtype'>float64</div><div class='xr-var-preview xr-preview'>1.842 9.096 10.1 ... 42.98 38.98</div><input id='attrs-34029c26-aa5c-46b0-b592-2bf6d3b9a2df' class='xr-var-attrs-in' type='checkbox' disabled><label for='attrs-34029c26-aa5c-46b0-b592-2bf6d3b9a2df' title='Show/Hide attributes'><svg class='icon xr-icon-file-text2'><use xlink:href='#icon-file-text2'></use></svg></label><input id='data-f6dda925-785d-4fb7-9507-10cdb839cc0d' class='xr-var-data-in' type='checkbox'><label for='data-f6dda925-785d-4fb7-9507-10cdb839cc0d' title='Show/Hide data repr'><svg class='icon xr-icon-database'><use xlink:href='#icon-database'></use></svg></label><div class='xr-var-attrs'><dl class='xr-attrs'></dl></div><div class='xr-var-data'><pre>array([[ 1.842     ,  9.09649214, 10.09649214, ..., 45.90602422,\n",
       "        41.90602422, 37.90602422],\n",
       "       [ 1.837     ,  9.1544213 , 10.1544213 , ..., 45.82064068,\n",
       "        41.82064068, 37.82064068],\n",
       "       [ 1.839     ,  9.28843631, 10.28843631, ..., 45.74546966,\n",
       "        41.74546966, 37.74546966],\n",
       "       ...,\n",
       "       [ 1.965     ,  9.14165775, 10.14165775, ..., 46.85665311,\n",
       "        42.85665311, 38.85665311],\n",
       "       [ 1.957     ,  9.11880681, 10.11880681, ..., 46.91869783,\n",
       "        42.91869783, 38.91869783],\n",
       "       [ 1.998     ,  9.11868766, 10.11868766, ..., 46.98106639,\n",
       "        42.98106639, 38.98106639]])</pre></div></li></ul></div></li><li class='xr-section-item'><input id='section-eddb8671-77c4-453e-b9ac-32ff3c8fa54f' class='xr-section-summary-in' type='checkbox'  ><label for='section-eddb8671-77c4-453e-b9ac-32ff3c8fa54f' class='xr-section-summary' >Attributes: <span>(70)</span></label><div class='xr-section-inline-details'></div><div class='xr-section-details'><dl class='xr-attrs'><dt><span>node :</span></dt><dd>SBD11</dd><dt><span>comment :</span></dt><dd></dd><dt><span>publisher_email :</span></dt><dd></dd><dt><span>sourceUrl :</span></dt><dd>http://oceanobservatories.org/</dd><dt><span>collection_method :</span></dt><dd>recovered_inst</dd><dt><span>stream :</span></dt><dd>velpt_ab_instrument_recovered</dd><dt><span>featureType :</span></dt><dd>point</dd><dt><span>creator_email :</span></dt><dd></dd><dt><span>publisher_name :</span></dt><dd>Ocean Observatories Initiative</dd><dt><span>date_modified :</span></dt><dd>2020-08-16T12:20:33.910748</dd><dt><span>keywords :</span></dt><dd></dd><dt><span>cdm_data_type :</span></dt><dd>Point</dd><dt><span>references :</span></dt><dd>More information can be found at http://oceanobservatories.org/</dd><dt><span>Metadata_Conventions :</span></dt><dd>Unidata Dataset Discovery v1.0</dd><dt><span>date_created :</span></dt><dd>2020-08-16T12:20:33.910735</dd><dt><span>id :</span></dt><dd>CE02SHSM-SBD11-04-VELPTA000-recovered_inst-velpt_ab_instrument_recovered</dd><dt><span>requestUUID :</span></dt><dd>06b0f3a7-e6c1-4491-b52d-48846c09fb14</dd><dt><span>contributor_role :</span></dt><dd></dd><dt><span>summary :</span></dt><dd>Dataset Generated by Stream Engine from Ocean Observatories Initiative</dd><dt><span>keywords_vocabulary :</span></dt><dd></dd><dt><span>institution :</span></dt><dd>Ocean Observatories Initiative</dd><dt><span>naming_authority :</span></dt><dd>org.oceanobservatories</dd><dt><span>feature_Type :</span></dt><dd>point</dd><dt><span>infoUrl :</span></dt><dd>http://oceanobservatories.org/</dd><dt><span>license :</span></dt><dd></dd><dt><span>contributor_name :</span></dt><dd></dd><dt><span>uuid :</span></dt><dd>06b0f3a7-e6c1-4491-b52d-48846c09fb14</dd><dt><span>creator_name :</span></dt><dd>Ocean Observatories Initiative</dd><dt><span>title :</span></dt><dd>Data produced by Stream Engine version 1.15.0 for CE02SHSM-SBD11-04-VELPTA000-recovered_inst-velpt_ab_instrument_recovered</dd><dt><span>sensor :</span></dt><dd>04-VELPTA000</dd><dt><span>standard_name_vocabulary :</span></dt><dd>NetCDF Climate and Forecast (CF) Metadata Convention Standard Name Table 29</dd><dt><span>acknowledgement :</span></dt><dd></dd><dt><span>Conventions :</span></dt><dd>CF-1.6</dd><dt><span>project :</span></dt><dd>Ocean Observatories Initiative</dd><dt><span>source :</span></dt><dd>CE02SHSM-SBD11-04-VELPTA000-recovered_inst-velpt_ab_instrument_recovered</dd><dt><span>publisher_url :</span></dt><dd>http://oceanobservatories.org/</dd><dt><span>creator_url :</span></dt><dd>http://oceanobservatories.org/</dd><dt><span>nodc_template_version :</span></dt><dd>NODC_NetCDF_TimeSeries_Orthogonal_Template_v1.1</dd><dt><span>subsite :</span></dt><dd>CE02SHSM</dd><dt><span>processing_level :</span></dt><dd>L2</dd><dt><span>history :</span></dt><dd>2020-08-16T12:20:33.910616 generated from Stream Engine</dd><dt><span>Manufacturer :</span></dt><dd>Nortek</dd><dt><span>ModelNumber :</span></dt><dd>Aquadopp</dd><dt><span>SerialNumber :</span></dt><dd>AQD 12742</dd><dt><span>Description :</span></dt><dd>Single Point Velocity Meter: VELPT Series A</dd><dt><span>FirmwareVersion :</span></dt><dd>Not specified.</dd><dt><span>SoftwareVersion :</span></dt><dd>Not specified.</dd><dt><span>AssetUniqueID :</span></dt><dd>CGINS-VELPTA-12742</dd><dt><span>Notes :</span></dt><dd>Not specified.</dd><dt><span>Owner :</span></dt><dd>Not specified.</dd><dt><span>RemoteResources :</span></dt><dd>[]</dd><dt><span>ShelfLifeExpirationDate :</span></dt><dd>Not specified.</dd><dt><span>Mobile :</span></dt><dd>False</dd><dt><span>AssetManagementRecordLastModified :</span></dt><dd>2020-08-14T18:41:32.787000</dd><dt><span>time_coverage_start :</span></dt><dd>2019-04-20T00:00:00</dd><dt><span>time_coverage_end :</span></dt><dd>2019-10-22T15:30:00</dd><dt><span>time_coverage_resolution :</span></dt><dd>P899.95S</dd><dt><span>geospatial_lat_min :</span></dt><dd>44.63558</dd><dt><span>geospatial_lat_max :</span></dt><dd>44.63558</dd><dt><span>geospatial_lat_units :</span></dt><dd>degrees_north</dd><dt><span>geospatial_lat_resolution :</span></dt><dd>0.1</dd><dt><span>geospatial_lon_min :</span></dt><dd>-124.3039</dd><dt><span>geospatial_lon_max :</span></dt><dd>-124.3039</dd><dt><span>geospatial_lon_units :</span></dt><dd>degrees_east</dd><dt><span>geospatial_lon_resolution :</span></dt><dd>0.1</dd><dt><span>geospatial_vertical_units :</span></dt><dd>meters</dd><dt><span>geospatial_vertical_resolution :</span></dt><dd>0.1</dd><dt><span>geospatial_vertical_positive :</span></dt><dd>down</dd><dt><span>lat :</span></dt><dd>44.63558</dd><dt><span>lon :</span></dt><dd>-124.3039</dd></dl></div></li></ul></div></div>"
      ],
      "text/plain": [
       "<xarray.Dataset>\n",
       "Dimensions:                      (bin_depths_avg: 37, time: 17510)\n",
       "Coordinates:\n",
       "  * time                         (time) datetime64[ns] 2019-04-20T00:30:00 .....\n",
       "    obs                          (time) int32 2 3 4 5 ... 17813 17814 17815\n",
       "  * bin_depths_avg               (bin_depths_avg) float64 1.894 9.148 ... 38.6\n",
       "Data variables:\n",
       "    depth_from_pressure          (time) float64 80.06 79.97 79.9 ... 81.07 81.13\n",
       "    sea_surface                  (time) float64 -0.7068 -0.7922 ... 0.3683\n",
       "    eastward_seawater_velocity   (time, bin_depths_avg) float64 -0.1552 ... 0...\n",
       "    northward_seawater_velocity  (time, bin_depths_avg) float64 -0.4895 ... 0...\n",
       "    bin_depths                   (time, bin_depths_avg) float64 1.842 ... 38.98\n",
       "Attributes:\n",
       "    node:                               SBD11\n",
       "    comment:                            \n",
       "    publisher_email:                    \n",
       "    sourceUrl:                          http://oceanobservatories.org/\n",
       "    collection_method:                  recovered_inst\n",
       "    stream:                             velpt_ab_instrument_recovered\n",
       "    featureType:                        point\n",
       "    creator_email:                      \n",
       "    publisher_name:                     Ocean Observatories Initiative\n",
       "    date_modified:                      2020-08-16T12:20:33.910748\n",
       "    keywords:                           \n",
       "    cdm_data_type:                      Point\n",
       "    references:                         More information can be found at http...\n",
       "    Metadata_Conventions:               Unidata Dataset Discovery v1.0\n",
       "    date_created:                       2020-08-16T12:20:33.910735\n",
       "    id:                                 CE02SHSM-SBD11-04-VELPTA000-recovered...\n",
       "    requestUUID:                        06b0f3a7-e6c1-4491-b52d-48846c09fb14\n",
       "    contributor_role:                   \n",
       "    summary:                            Dataset Generated by Stream Engine fr...\n",
       "    keywords_vocabulary:                \n",
       "    institution:                        Ocean Observatories Initiative\n",
       "    naming_authority:                   org.oceanobservatories\n",
       "    feature_Type:                       point\n",
       "    infoUrl:                            http://oceanobservatories.org/\n",
       "    license:                            \n",
       "    contributor_name:                   \n",
       "    uuid:                               06b0f3a7-e6c1-4491-b52d-48846c09fb14\n",
       "    creator_name:                       Ocean Observatories Initiative\n",
       "    title:                              Data produced by Stream Engine versio...\n",
       "    sensor:                             04-VELPTA000\n",
       "    standard_name_vocabulary:           NetCDF Climate and Forecast (CF) Meta...\n",
       "    acknowledgement:                    \n",
       "    Conventions:                        CF-1.6\n",
       "    project:                            Ocean Observatories Initiative\n",
       "    source:                             CE02SHSM-SBD11-04-VELPTA000-recovered...\n",
       "    publisher_url:                      http://oceanobservatories.org/\n",
       "    creator_url:                        http://oceanobservatories.org/\n",
       "    nodc_template_version:              NODC_NetCDF_TimeSeries_Orthogonal_Tem...\n",
       "    subsite:                            CE02SHSM\n",
       "    processing_level:                   L2\n",
       "    history:                            2020-08-16T12:20:33.910616 generated ...\n",
       "    Manufacturer:                       Nortek\n",
       "    ModelNumber:                        Aquadopp\n",
       "    SerialNumber:                       AQD 12742\n",
       "    Description:                        Single Point Velocity Meter: VELPT Se...\n",
       "    FirmwareVersion:                    Not specified.\n",
       "    SoftwareVersion:                    Not specified.\n",
       "    AssetUniqueID:                      CGINS-VELPTA-12742\n",
       "    Notes:                              Not specified.\n",
       "    Owner:                              Not specified.\n",
       "    RemoteResources:                    []\n",
       "    ShelfLifeExpirationDate:            Not specified.\n",
       "    Mobile:                             False\n",
       "    AssetManagementRecordLastModified:  2020-08-14T18:41:32.787000\n",
       "    time_coverage_start:                2019-04-20T00:00:00\n",
       "    time_coverage_end:                  2019-10-22T15:30:00\n",
       "    time_coverage_resolution:           P899.95S\n",
       "    geospatial_lat_min:                 44.63558\n",
       "    geospatial_lat_max:                 44.63558\n",
       "    geospatial_lat_units:               degrees_north\n",
       "    geospatial_lat_resolution:          0.1\n",
       "    geospatial_lon_min:                 -124.3039\n",
       "    geospatial_lon_max:                 -124.3039\n",
       "    geospatial_lon_units:               degrees_east\n",
       "    geospatial_lon_resolution:          0.1\n",
       "    geospatial_vertical_units:          meters\n",
       "    geospatial_vertical_resolution:     0.1\n",
       "    geospatial_vertical_positive:       down\n",
       "    lat:                                44.63558\n",
       "    lon:                                -124.3039"
      ]
     },
     "execution_count": 45,
     "metadata": {},
     "output_type": "execute_result"
    }
   ],
   "source": [
    "ds_merged"
   ]
  },
  {
   "cell_type": "code",
   "execution_count": 48,
   "metadata": {},
   "outputs": [
    {
     "data": {
      "text/html": [
       "<div><svg style=\"position: absolute; width: 0; height: 0; overflow: hidden\">\n",
       "<defs>\n",
       "<symbol id=\"icon-database\" viewBox=\"0 0 32 32\">\n",
       "<path d=\"M16 0c-8.837 0-16 2.239-16 5v4c0 2.761 7.163 5 16 5s16-2.239 16-5v-4c0-2.761-7.163-5-16-5z\"></path>\n",
       "<path d=\"M16 17c-8.837 0-16-2.239-16-5v6c0 2.761 7.163 5 16 5s16-2.239 16-5v-6c0 2.761-7.163 5-16 5z\"></path>\n",
       "<path d=\"M16 26c-8.837 0-16-2.239-16-5v6c0 2.761 7.163 5 16 5s16-2.239 16-5v-6c0 2.761-7.163 5-16 5z\"></path>\n",
       "</symbol>\n",
       "<symbol id=\"icon-file-text2\" viewBox=\"0 0 32 32\">\n",
       "<path d=\"M28.681 7.159c-0.694-0.947-1.662-2.053-2.724-3.116s-2.169-2.030-3.116-2.724c-1.612-1.182-2.393-1.319-2.841-1.319h-15.5c-1.378 0-2.5 1.121-2.5 2.5v27c0 1.378 1.122 2.5 2.5 2.5h23c1.378 0 2.5-1.122 2.5-2.5v-19.5c0-0.448-0.137-1.23-1.319-2.841zM24.543 5.457c0.959 0.959 1.712 1.825 2.268 2.543h-4.811v-4.811c0.718 0.556 1.584 1.309 2.543 2.268zM28 29.5c0 0.271-0.229 0.5-0.5 0.5h-23c-0.271 0-0.5-0.229-0.5-0.5v-27c0-0.271 0.229-0.5 0.5-0.5 0 0 15.499-0 15.5 0v7c0 0.552 0.448 1 1 1h7v19.5z\"></path>\n",
       "<path d=\"M23 26h-14c-0.552 0-1-0.448-1-1s0.448-1 1-1h14c0.552 0 1 0.448 1 1s-0.448 1-1 1z\"></path>\n",
       "<path d=\"M23 22h-14c-0.552 0-1-0.448-1-1s0.448-1 1-1h14c0.552 0 1 0.448 1 1s-0.448 1-1 1z\"></path>\n",
       "<path d=\"M23 18h-14c-0.552 0-1-0.448-1-1s0.448-1 1-1h14c0.552 0 1 0.448 1 1s-0.448 1-1 1z\"></path>\n",
       "</symbol>\n",
       "</defs>\n",
       "</svg>\n",
       "<style>/* CSS stylesheet for displaying xarray objects in jupyterlab.\n",
       " *\n",
       " */\n",
       "\n",
       ":root {\n",
       "  --xr-font-color0: var(--jp-content-font-color0, rgba(0, 0, 0, 1));\n",
       "  --xr-font-color2: var(--jp-content-font-color2, rgba(0, 0, 0, 0.54));\n",
       "  --xr-font-color3: var(--jp-content-font-color3, rgba(0, 0, 0, 0.38));\n",
       "  --xr-border-color: var(--jp-border-color2, #e0e0e0);\n",
       "  --xr-disabled-color: var(--jp-layout-color3, #bdbdbd);\n",
       "  --xr-background-color: var(--jp-layout-color0, white);\n",
       "  --xr-background-color-row-even: var(--jp-layout-color1, white);\n",
       "  --xr-background-color-row-odd: var(--jp-layout-color2, #eeeeee);\n",
       "}\n",
       "\n",
       "html[theme=dark],\n",
       "body.vscode-dark {\n",
       "  --xr-font-color0: rgba(255, 255, 255, 1);\n",
       "  --xr-font-color2: rgba(255, 255, 255, 0.54);\n",
       "  --xr-font-color3: rgba(255, 255, 255, 0.38);\n",
       "  --xr-border-color: #1F1F1F;\n",
       "  --xr-disabled-color: #515151;\n",
       "  --xr-background-color: #111111;\n",
       "  --xr-background-color-row-even: #111111;\n",
       "  --xr-background-color-row-odd: #313131;\n",
       "}\n",
       "\n",
       ".xr-wrap {\n",
       "  display: block;\n",
       "  min-width: 300px;\n",
       "  max-width: 700px;\n",
       "}\n",
       "\n",
       ".xr-text-repr-fallback {\n",
       "  /* fallback to plain text repr when CSS is not injected (untrusted notebook) */\n",
       "  display: none;\n",
       "}\n",
       "\n",
       ".xr-header {\n",
       "  padding-top: 6px;\n",
       "  padding-bottom: 6px;\n",
       "  margin-bottom: 4px;\n",
       "  border-bottom: solid 1px var(--xr-border-color);\n",
       "}\n",
       "\n",
       ".xr-header > div,\n",
       ".xr-header > ul {\n",
       "  display: inline;\n",
       "  margin-top: 0;\n",
       "  margin-bottom: 0;\n",
       "}\n",
       "\n",
       ".xr-obj-type,\n",
       ".xr-array-name {\n",
       "  margin-left: 2px;\n",
       "  margin-right: 10px;\n",
       "}\n",
       "\n",
       ".xr-obj-type {\n",
       "  color: var(--xr-font-color2);\n",
       "}\n",
       "\n",
       ".xr-sections {\n",
       "  padding-left: 0 !important;\n",
       "  display: grid;\n",
       "  grid-template-columns: 150px auto auto 1fr 20px 20px;\n",
       "}\n",
       "\n",
       ".xr-section-item {\n",
       "  display: contents;\n",
       "}\n",
       "\n",
       ".xr-section-item input {\n",
       "  display: none;\n",
       "}\n",
       "\n",
       ".xr-section-item input + label {\n",
       "  color: var(--xr-disabled-color);\n",
       "}\n",
       "\n",
       ".xr-section-item input:enabled + label {\n",
       "  cursor: pointer;\n",
       "  color: var(--xr-font-color2);\n",
       "}\n",
       "\n",
       ".xr-section-item input:enabled + label:hover {\n",
       "  color: var(--xr-font-color0);\n",
       "}\n",
       "\n",
       ".xr-section-summary {\n",
       "  grid-column: 1;\n",
       "  color: var(--xr-font-color2);\n",
       "  font-weight: 500;\n",
       "}\n",
       "\n",
       ".xr-section-summary > span {\n",
       "  display: inline-block;\n",
       "  padding-left: 0.5em;\n",
       "}\n",
       "\n",
       ".xr-section-summary-in:disabled + label {\n",
       "  color: var(--xr-font-color2);\n",
       "}\n",
       "\n",
       ".xr-section-summary-in + label:before {\n",
       "  display: inline-block;\n",
       "  content: '►';\n",
       "  font-size: 11px;\n",
       "  width: 15px;\n",
       "  text-align: center;\n",
       "}\n",
       "\n",
       ".xr-section-summary-in:disabled + label:before {\n",
       "  color: var(--xr-disabled-color);\n",
       "}\n",
       "\n",
       ".xr-section-summary-in:checked + label:before {\n",
       "  content: '▼';\n",
       "}\n",
       "\n",
       ".xr-section-summary-in:checked + label > span {\n",
       "  display: none;\n",
       "}\n",
       "\n",
       ".xr-section-summary,\n",
       ".xr-section-inline-details {\n",
       "  padding-top: 4px;\n",
       "  padding-bottom: 4px;\n",
       "}\n",
       "\n",
       ".xr-section-inline-details {\n",
       "  grid-column: 2 / -1;\n",
       "}\n",
       "\n",
       ".xr-section-details {\n",
       "  display: none;\n",
       "  grid-column: 1 / -1;\n",
       "  margin-bottom: 5px;\n",
       "}\n",
       "\n",
       ".xr-section-summary-in:checked ~ .xr-section-details {\n",
       "  display: contents;\n",
       "}\n",
       "\n",
       ".xr-array-wrap {\n",
       "  grid-column: 1 / -1;\n",
       "  display: grid;\n",
       "  grid-template-columns: 20px auto;\n",
       "}\n",
       "\n",
       ".xr-array-wrap > label {\n",
       "  grid-column: 1;\n",
       "  vertical-align: top;\n",
       "}\n",
       "\n",
       ".xr-preview {\n",
       "  color: var(--xr-font-color3);\n",
       "}\n",
       "\n",
       ".xr-array-preview,\n",
       ".xr-array-data {\n",
       "  padding: 0 5px !important;\n",
       "  grid-column: 2;\n",
       "}\n",
       "\n",
       ".xr-array-data,\n",
       ".xr-array-in:checked ~ .xr-array-preview {\n",
       "  display: none;\n",
       "}\n",
       "\n",
       ".xr-array-in:checked ~ .xr-array-data,\n",
       ".xr-array-preview {\n",
       "  display: inline-block;\n",
       "}\n",
       "\n",
       ".xr-dim-list {\n",
       "  display: inline-block !important;\n",
       "  list-style: none;\n",
       "  padding: 0 !important;\n",
       "  margin: 0;\n",
       "}\n",
       "\n",
       ".xr-dim-list li {\n",
       "  display: inline-block;\n",
       "  padding: 0;\n",
       "  margin: 0;\n",
       "}\n",
       "\n",
       ".xr-dim-list:before {\n",
       "  content: '(';\n",
       "}\n",
       "\n",
       ".xr-dim-list:after {\n",
       "  content: ')';\n",
       "}\n",
       "\n",
       ".xr-dim-list li:not(:last-child):after {\n",
       "  content: ',';\n",
       "  padding-right: 5px;\n",
       "}\n",
       "\n",
       ".xr-has-index {\n",
       "  font-weight: bold;\n",
       "}\n",
       "\n",
       ".xr-var-list,\n",
       ".xr-var-item {\n",
       "  display: contents;\n",
       "}\n",
       "\n",
       ".xr-var-item > div,\n",
       ".xr-var-item label,\n",
       ".xr-var-item > .xr-var-name span {\n",
       "  background-color: var(--xr-background-color-row-even);\n",
       "  margin-bottom: 0;\n",
       "}\n",
       "\n",
       ".xr-var-item > .xr-var-name:hover span {\n",
       "  padding-right: 5px;\n",
       "}\n",
       "\n",
       ".xr-var-list > li:nth-child(odd) > div,\n",
       ".xr-var-list > li:nth-child(odd) > label,\n",
       ".xr-var-list > li:nth-child(odd) > .xr-var-name span {\n",
       "  background-color: var(--xr-background-color-row-odd);\n",
       "}\n",
       "\n",
       ".xr-var-name {\n",
       "  grid-column: 1;\n",
       "}\n",
       "\n",
       ".xr-var-dims {\n",
       "  grid-column: 2;\n",
       "}\n",
       "\n",
       ".xr-var-dtype {\n",
       "  grid-column: 3;\n",
       "  text-align: right;\n",
       "  color: var(--xr-font-color2);\n",
       "}\n",
       "\n",
       ".xr-var-preview {\n",
       "  grid-column: 4;\n",
       "}\n",
       "\n",
       ".xr-var-name,\n",
       ".xr-var-dims,\n",
       ".xr-var-dtype,\n",
       ".xr-preview,\n",
       ".xr-attrs dt {\n",
       "  white-space: nowrap;\n",
       "  overflow: hidden;\n",
       "  text-overflow: ellipsis;\n",
       "  padding-right: 10px;\n",
       "}\n",
       "\n",
       ".xr-var-name:hover,\n",
       ".xr-var-dims:hover,\n",
       ".xr-var-dtype:hover,\n",
       ".xr-attrs dt:hover {\n",
       "  overflow: visible;\n",
       "  width: auto;\n",
       "  z-index: 1;\n",
       "}\n",
       "\n",
       ".xr-var-attrs,\n",
       ".xr-var-data {\n",
       "  display: none;\n",
       "  background-color: var(--xr-background-color) !important;\n",
       "  padding-bottom: 5px !important;\n",
       "}\n",
       "\n",
       ".xr-var-attrs-in:checked ~ .xr-var-attrs,\n",
       ".xr-var-data-in:checked ~ .xr-var-data {\n",
       "  display: block;\n",
       "}\n",
       "\n",
       ".xr-var-data > table {\n",
       "  float: right;\n",
       "}\n",
       "\n",
       ".xr-var-name span,\n",
       ".xr-var-data,\n",
       ".xr-attrs {\n",
       "  padding-left: 25px !important;\n",
       "}\n",
       "\n",
       ".xr-attrs,\n",
       ".xr-var-attrs,\n",
       ".xr-var-data {\n",
       "  grid-column: 1 / -1;\n",
       "}\n",
       "\n",
       "dl.xr-attrs {\n",
       "  padding: 0;\n",
       "  margin: 0;\n",
       "  display: grid;\n",
       "  grid-template-columns: 125px auto;\n",
       "}\n",
       "\n",
       ".xr-attrs dt,\n",
       ".xr-attrs dd {\n",
       "  padding: 0;\n",
       "  margin: 0;\n",
       "  float: left;\n",
       "  padding-right: 10px;\n",
       "  width: auto;\n",
       "}\n",
       "\n",
       ".xr-attrs dt {\n",
       "  font-weight: normal;\n",
       "  grid-column: 1;\n",
       "}\n",
       "\n",
       ".xr-attrs dt:hover span {\n",
       "  display: inline-block;\n",
       "  background: var(--xr-background-color);\n",
       "  padding-right: 10px;\n",
       "}\n",
       "\n",
       ".xr-attrs dd {\n",
       "  grid-column: 2;\n",
       "  white-space: pre-wrap;\n",
       "  word-break: break-all;\n",
       "}\n",
       "\n",
       ".xr-icon-database,\n",
       ".xr-icon-file-text2 {\n",
       "  display: inline-block;\n",
       "  vertical-align: middle;\n",
       "  width: 1em;\n",
       "  height: 1.5em !important;\n",
       "  stroke-width: 0;\n",
       "  stroke: currentColor;\n",
       "  fill: currentColor;\n",
       "}\n",
       "</style><pre class='xr-text-repr-fallback'>&lt;xarray.DataArray &#x27;bin_depths_avg&#x27; (bin_depths_avg: 37)&gt;\n",
       "array([ 1.893978,  9.147893, 10.147893, 11.147893, 12.147893, 13.147893,\n",
       "       14.147893, 15.147893, 16.147893, 17.147893, 18.147893, 19.147893,\n",
       "       20.147893, 21.147893, 22.147893, 23.147893, 24.147893, 25.147893,\n",
       "       26.147893, 27.147893, 28.147893, 29.147893, 30.147893, 31.147893,\n",
       "       32.147893, 33.147893, 34.147893, 74.602792, 70.602792, 66.602792,\n",
       "       62.602792, 58.602792, 54.602792, 50.602792, 46.602792, 42.602792,\n",
       "       38.602792])\n",
       "Coordinates:\n",
       "  * bin_depths_avg  (bin_depths_avg) float64 1.894 9.148 10.15 ... 42.6 38.6\n",
       "Attributes:\n",
       "    units:    m</pre><div class='xr-wrap' hidden><div class='xr-header'><div class='xr-obj-type'>xarray.DataArray</div><div class='xr-array-name'>'bin_depths_avg'</div><ul class='xr-dim-list'><li><span class='xr-has-index'>bin_depths_avg</span>: 37</li></ul></div><ul class='xr-sections'><li class='xr-section-item'><div class='xr-array-wrap'><input id='section-e1163113-2ca0-42c9-857c-57fd2f32e871' class='xr-array-in' type='checkbox' checked><label for='section-e1163113-2ca0-42c9-857c-57fd2f32e871' title='Show/hide data repr'><svg class='icon xr-icon-database'><use xlink:href='#icon-database'></use></svg></label><div class='xr-array-preview xr-preview'><span>1.894 9.148 10.15 11.15 12.15 13.15 ... 58.6 54.6 50.6 46.6 42.6 38.6</span></div><div class='xr-array-data'><pre>array([ 1.893978,  9.147893, 10.147893, 11.147893, 12.147893, 13.147893,\n",
       "       14.147893, 15.147893, 16.147893, 17.147893, 18.147893, 19.147893,\n",
       "       20.147893, 21.147893, 22.147893, 23.147893, 24.147893, 25.147893,\n",
       "       26.147893, 27.147893, 28.147893, 29.147893, 30.147893, 31.147893,\n",
       "       32.147893, 33.147893, 34.147893, 74.602792, 70.602792, 66.602792,\n",
       "       62.602792, 58.602792, 54.602792, 50.602792, 46.602792, 42.602792,\n",
       "       38.602792])</pre></div></div></li><li class='xr-section-item'><input id='section-bb140cf9-8608-4a3e-9713-f098cd7ac77c' class='xr-section-summary-in' type='checkbox'  checked><label for='section-bb140cf9-8608-4a3e-9713-f098cd7ac77c' class='xr-section-summary' >Coordinates: <span>(1)</span></label><div class='xr-section-inline-details'></div><div class='xr-section-details'><ul class='xr-var-list'><li class='xr-var-item'><div class='xr-var-name'><span class='xr-has-index'>bin_depths_avg</span></div><div class='xr-var-dims'>(bin_depths_avg)</div><div class='xr-var-dtype'>float64</div><div class='xr-var-preview xr-preview'>1.894 9.148 10.15 ... 42.6 38.6</div><input id='attrs-0de2a7b3-3d19-4685-8a15-9fafc13efbea' class='xr-var-attrs-in' type='checkbox' ><label for='attrs-0de2a7b3-3d19-4685-8a15-9fafc13efbea' title='Show/Hide attributes'><svg class='icon xr-icon-file-text2'><use xlink:href='#icon-file-text2'></use></svg></label><input id='data-ccff2e7f-9427-404f-aa0e-6de06719b473' class='xr-var-data-in' type='checkbox'><label for='data-ccff2e7f-9427-404f-aa0e-6de06719b473' title='Show/Hide data repr'><svg class='icon xr-icon-database'><use xlink:href='#icon-database'></use></svg></label><div class='xr-var-attrs'><dl class='xr-attrs'><dt><span>units :</span></dt><dd>m</dd></dl></div><div class='xr-var-data'><pre>array([ 1.893978,  9.147893, 10.147893, 11.147893, 12.147893, 13.147893,\n",
       "       14.147893, 15.147893, 16.147893, 17.147893, 18.147893, 19.147893,\n",
       "       20.147893, 21.147893, 22.147893, 23.147893, 24.147893, 25.147893,\n",
       "       26.147893, 27.147893, 28.147893, 29.147893, 30.147893, 31.147893,\n",
       "       32.147893, 33.147893, 34.147893, 74.602792, 70.602792, 66.602792,\n",
       "       62.602792, 58.602792, 54.602792, 50.602792, 46.602792, 42.602792,\n",
       "       38.602792])</pre></div></li></ul></div></li><li class='xr-section-item'><input id='section-dcdf6c56-d982-4be3-ba82-a85c2d9eab61' class='xr-section-summary-in' type='checkbox'  checked><label for='section-dcdf6c56-d982-4be3-ba82-a85c2d9eab61' class='xr-section-summary' >Attributes: <span>(1)</span></label><div class='xr-section-inline-details'></div><div class='xr-section-details'><dl class='xr-attrs'><dt><span>units :</span></dt><dd>m</dd></dl></div></li></ul></div></div>"
      ],
      "text/plain": [
       "<xarray.DataArray 'bin_depths_avg' (bin_depths_avg: 37)>\n",
       "array([ 1.893978,  9.147893, 10.147893, 11.147893, 12.147893, 13.147893,\n",
       "       14.147893, 15.147893, 16.147893, 17.147893, 18.147893, 19.147893,\n",
       "       20.147893, 21.147893, 22.147893, 23.147893, 24.147893, 25.147893,\n",
       "       26.147893, 27.147893, 28.147893, 29.147893, 30.147893, 31.147893,\n",
       "       32.147893, 33.147893, 34.147893, 74.602792, 70.602792, 66.602792,\n",
       "       62.602792, 58.602792, 54.602792, 50.602792, 46.602792, 42.602792,\n",
       "       38.602792])\n",
       "Coordinates:\n",
       "  * bin_depths_avg  (bin_depths_avg) float64 1.894 9.148 10.15 ... 42.6 38.6\n",
       "Attributes:\n",
       "    units:    m"
      ]
     },
     "execution_count": 48,
     "metadata": {},
     "output_type": "execute_result"
    }
   ],
   "source": [
    "ds_merged['bin_depths_avg']"
   ]
  },
  {
   "cell_type": "code",
   "execution_count": 50,
   "metadata": {},
   "outputs": [],
   "source": [
    "ds_merged_sorted = ds_merged.sortby('bin_depths_avg')"
   ]
  },
  {
   "cell_type": "code",
   "execution_count": 51,
   "metadata": {},
   "outputs": [
    {
     "data": {
      "application/vnd.jupyter.widget-view+json": {
       "model_id": "1fed9a58d4054e44ad514f35dc33d448",
       "version_major": 2,
       "version_minor": 0
      },
      "text/plain": [
       "Canvas(toolbar=Toolbar(toolitems=[('Home', 'Reset original view', 'home', 'home'), ('Back', 'Back to previous …"
      ]
     },
     "metadata": {},
     "output_type": "display_data"
    },
    {
     "data": {
      "text/plain": [
       "Text(0.5, 1.0, 'mean current vectors')"
      ]
     },
     "execution_count": 51,
     "metadata": {},
     "output_type": "execute_result"
    }
   ],
   "source": [
    "plt.figure()\n",
    "for i in range(len(ds_merged_sorted['bin_depths_avg'])):\n",
    "    plt.plot([0,ds_merged_sorted['eastward_seawater_velocity'].mean(dim='time')[i]],\n",
    "             [0,ds_merged_sorted['northward_seawater_velocity'].mean(dim='time')[i]]\n",
    "             ,'-');\n",
    "plt.axis('equal')\n",
    "plt.xlabel('u [m/s]')\n",
    "plt.ylabel('v [m/s]')\n",
    "plt.title('mean current vectors')"
   ]
  },
  {
   "cell_type": "code",
   "execution_count": 55,
   "metadata": {},
   "outputs": [],
   "source": [
    "ds_merged_sorted_resampled = ds_merged_sorted.resample(time='15T').mean()"
   ]
  },
  {
   "cell_type": "code",
   "execution_count": 56,
   "metadata": {},
   "outputs": [],
   "source": [
    "ds_merged_sorted_resampled.to_netcdf('nc_files/merged_velocity_orshelf.nc')"
   ]
  },
  {
   "cell_type": "code",
   "execution_count": null,
   "metadata": {},
   "outputs": [],
   "source": []
  }
 ],
 "metadata": {
  "kernelspec": {
   "display_name": "Python 3",
   "language": "python",
   "name": "python3"
  },
  "language_info": {
   "codemirror_mode": {
    "name": "ipython",
    "version": 3
   },
   "file_extension": ".py",
   "mimetype": "text/x-python",
   "name": "python",
   "nbconvert_exporter": "python",
   "pygments_lexer": "ipython3",
   "version": "3.9.4"
  }
 },
 "nbformat": 4,
 "nbformat_minor": 4
}
